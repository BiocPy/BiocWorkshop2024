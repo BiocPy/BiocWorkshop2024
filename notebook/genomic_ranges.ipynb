{
 "cells": [
  {
   "cell_type": "markdown",
   "metadata": {},
   "source": [
    "# Tutorial 1: `GenomicRanges` and range-based analyses\n",
    "\n",
    "Genomic range operations are fundamental to many bioinformatics analyses. They allow us to work with intervals of genomic coordinates, which is crucial for understanding the relationships between different genomic features such as genes, regulatory elements, and experimental data like ChIP-seq peaks. In this tutorial, we'll explore how to work with genomic interval data using BiocPy's [GenomicRanges](https://github.com/BiocPy/GenomicRanges/) package, which provides Python implementations similar to the R/Bioconductor [GenomicRanges package](https://github.com/Bioconductor/GenomicRanges).\n",
    "\n",
    "## Outline\n",
    "\n",
    "In this workshop, we'll walk through several key aspects of working with genomic ranges in Python:\n",
    "\n",
    "1. Reading Genomic Data: We'll start by reading in genomic data from RDS files, including exon positions grouped by transcripts.\n",
    "2. Basic Genomic Operations: We'll cover fundamental operations like finding transcription start sites (TSS) and promoter regions.\n",
    "3. Overlap Analysis: We'll learn how to find overlaps between different genomic features, a common task in many analyses.\n",
    "4. Advanced Operations: We'll explore more complex operations like finding peaks within specific regions and resizing genomic intervals.\n",
    "\n",
    "## Prerequisites\n",
    "\n",
    "Before we begin, please ensure that you have the following packages installed:"
   ]
  },
  {
   "cell_type": "markdown",
   "metadata": {},
   "source": [
    "### Installation\n",
    "\n",
    "Let's start by installing the required packages for R and Python."
   ]
  },
  {
   "cell_type": "markdown",
   "metadata": {},
   "source": [
    "#### Python (shell)\n",
    "\n",
    "You can install the Python packages using pip:"
   ]
  },
  {
   "cell_type": "code",
   "execution_count": 22,
   "metadata": {
    "scrolled": true
   },
   "outputs": [
    {
     "name": "stdout",
     "output_type": "stream",
     "text": [
      "Requirement already satisfied: biocutils in /Users/kancherj/miniforge3/lib/python3.10/site-packages (0.1.5)\n",
      "Requirement already satisfied: genomicranges in /Users/kancherj/miniforge3/lib/python3.10/site-packages (0.4.28)\n",
      "Requirement already satisfied: rds2py in /Users/kancherj/miniforge3/lib/python3.10/site-packages (0.4.4)\n",
      "Requirement already satisfied: numpy in /Users/kancherj/miniforge3/lib/python3.10/site-packages (1.26.4)\n",
      "Collecting numpy\n",
      "  Using cached numpy-2.0.0-cp310-cp310-macosx_14_0_arm64.whl.metadata (60 kB)\n",
      "Requirement already satisfied: pandas in /Users/kancherj/miniforge3/lib/python3.10/site-packages (2.2.2)\n",
      "Requirement already satisfied: geniml in /Users/kancherj/miniforge3/lib/python3.10/site-packages (0.4.0)\n",
      "Requirement already satisfied: biocframe>=0.5.11 in /Users/kancherj/miniforge3/lib/python3.10/site-packages (from genomicranges) (0.5.11)\n",
      "Requirement already satisfied: iranges>=0.2.11 in /Users/kancherj/miniforge3/lib/python3.10/site-packages (from iranges[optional]>=0.2.11->genomicranges) (0.2.11)\n",
      "Requirement already satisfied: Cython in /Users/kancherj/miniforge3/lib/python3.10/site-packages (from rds2py) (3.0.10)\n",
      "Requirement already satisfied: scipy in /Users/kancherj/miniforge3/lib/python3.10/site-packages (from rds2py) (1.12.0)\n",
      "Requirement already satisfied: singlecellexperiment>=0.4.1 in /Users/kancherj/miniforge3/lib/python3.10/site-packages (from rds2py) (0.4.6)\n",
      "Requirement already satisfied: summarizedexperiment>=0.4.1 in /Users/kancherj/miniforge3/lib/python3.10/site-packages (from rds2py) (0.4.5)\n",
      "Requirement already satisfied: python-dateutil>=2.8.2 in /Users/kancherj/miniforge3/lib/python3.10/site-packages (from pandas) (2.9.0.post0)\n",
      "Requirement already satisfied: pytz>=2020.1 in /Users/kancherj/miniforge3/lib/python3.10/site-packages (from pandas) (2024.1)\n",
      "Requirement already satisfied: tzdata>=2022.7 in /Users/kancherj/miniforge3/lib/python3.10/site-packages (from pandas) (2024.1)\n",
      "Requirement already satisfied: anndata>0.9.0 in /Users/kancherj/miniforge3/lib/python3.10/site-packages (from geniml) (0.10.8)\n",
      "Requirement already satisfied: genimtools>=0.0.12 in /Users/kancherj/miniforge3/lib/python3.10/site-packages (from geniml) (0.0.13)\n",
      "Requirement already satisfied: fastembed>=0.2.5 in /Users/kancherj/miniforge3/lib/python3.10/site-packages (from geniml) (0.3.4)\n",
      "Requirement already satisfied: gensim in /Users/kancherj/miniforge3/lib/python3.10/site-packages (from geniml) (4.3.2)\n",
      "Requirement already satisfied: huggingface-hub in /Users/kancherj/miniforge3/lib/python3.10/site-packages (from geniml) (0.23.5)\n",
      "Requirement already satisfied: logmuse in /Users/kancherj/miniforge3/lib/python3.10/site-packages (from geniml) (0.2.8)\n",
      "Requirement already satisfied: matplotlib in /Users/kancherj/miniforge3/lib/python3.10/site-packages (from geniml) (3.8.3)\n",
      "Requirement already satisfied: hnswlib in /Users/kancherj/miniforge3/lib/python3.10/site-packages (from geniml) (0.8.0)\n",
      "Requirement already satisfied: paramiko>=3.0.0 in /Users/kancherj/miniforge3/lib/python3.10/site-packages (from geniml) (3.4.0)\n",
      "Requirement already satisfied: peppy>=0.40.1 in /Users/kancherj/miniforge3/lib/python3.10/site-packages (from geniml) (0.40.3)\n",
      "Requirement already satisfied: pyBigWig in /Users/kancherj/miniforge3/lib/python3.10/site-packages (from geniml) (0.3.23)\n",
      "Requirement already satisfied: qdrant-client in /Users/kancherj/miniforge3/lib/python3.10/site-packages (from geniml) (1.10.1)\n",
      "Requirement already satisfied: requests>=2.31.0 in /Users/kancherj/miniforge3/lib/python3.10/site-packages (from geniml) (2.31.0)\n",
      "Requirement already satisfied: scanpy in /Users/kancherj/miniforge3/lib/python3.10/site-packages (from geniml) (1.10.2)\n",
      "Requirement already satisfied: seaborn in /Users/kancherj/miniforge3/lib/python3.10/site-packages (from geniml) (0.13.2)\n",
      "Requirement already satisfied: torch in /Users/kancherj/miniforge3/lib/python3.10/site-packages (from geniml) (2.3.1)\n",
      "Requirement already satisfied: ubiquerg>=0.6.3 in /Users/kancherj/miniforge3/lib/python3.10/site-packages (from geniml) (0.8.0)\n",
      "Requirement already satisfied: pyarrow in /Users/kancherj/miniforge3/lib/python3.10/site-packages (from geniml) (15.0.2)\n",
      "Requirement already satisfied: lightning in /Users/kancherj/miniforge3/lib/python3.10/site-packages (from geniml) (2.3.3)\n",
      "Requirement already satisfied: langchain-huggingface==0.0.2 in /Users/kancherj/miniforge3/lib/python3.10/site-packages (from geniml) (0.0.2)\n",
      "Requirement already satisfied: botocore>=1.34.54 in /Users/kancherj/miniforge3/lib/python3.10/site-packages (from geniml) (1.34.131)\n",
      "Requirement already satisfied: boto3>=1.34.54 in /Users/kancherj/miniforge3/lib/python3.10/site-packages (from geniml) (1.34.131)\n",
      "Requirement already satisfied: pybiocfilecache>=0.4.0 in /Users/kancherj/miniforge3/lib/python3.10/site-packages (from geniml) (0.4.0)\n",
      "Requirement already satisfied: zarr>=2.17.2 in /Users/kancherj/miniforge3/lib/python3.10/site-packages (from geniml) (2.18.2)\n",
      "Requirement already satisfied: pyyaml>=6.0.1 in /Users/kancherj/miniforge3/lib/python3.10/site-packages (from geniml) (6.0.1)\n",
      "Requirement already satisfied: s3fs>=2024.3.1 in /Users/kancherj/miniforge3/lib/python3.10/site-packages (from geniml) (2024.6.1)\n",
      "Requirement already satisfied: langchain-core<0.3,>=0.1.52 in /Users/kancherj/miniforge3/lib/python3.10/site-packages (from langchain-huggingface==0.0.2->geniml) (0.2.20)\n",
      "Requirement already satisfied: sentence-transformers>=2.6.0 in /Users/kancherj/miniforge3/lib/python3.10/site-packages (from langchain-huggingface==0.0.2->geniml) (3.0.1)\n",
      "Requirement already satisfied: text-generation<0.8.0,>=0.7.0 in /Users/kancherj/miniforge3/lib/python3.10/site-packages (from langchain-huggingface==0.0.2->geniml) (0.7.0)\n",
      "Requirement already satisfied: tokenizers>=0.19.1 in /Users/kancherj/miniforge3/lib/python3.10/site-packages (from langchain-huggingface==0.0.2->geniml) (0.19.1)\n",
      "Requirement already satisfied: transformers>=4.39.0 in /Users/kancherj/miniforge3/lib/python3.10/site-packages (from langchain-huggingface==0.0.2->geniml) (4.42.4)\n",
      "Requirement already satisfied: array-api-compat!=1.5,>1.4 in /Users/kancherj/miniforge3/lib/python3.10/site-packages (from anndata>0.9.0->geniml) (1.7.1)\n",
      "Requirement already satisfied: exceptiongroup in /Users/kancherj/miniforge3/lib/python3.10/site-packages (from anndata>0.9.0->geniml) (1.2.1)\n",
      "Requirement already satisfied: h5py>=3.1 in /Users/kancherj/miniforge3/lib/python3.10/site-packages (from anndata>0.9.0->geniml) (3.11.0)\n",
      "Requirement already satisfied: natsort in /Users/kancherj/miniforge3/lib/python3.10/site-packages (from anndata>0.9.0->geniml) (8.4.0)\n",
      "Requirement already satisfied: packaging>=20.0 in /Users/kancherj/miniforge3/lib/python3.10/site-packages (from anndata>0.9.0->geniml) (23.2)\n",
      "Requirement already satisfied: jmespath<2.0.0,>=0.7.1 in /Users/kancherj/miniforge3/lib/python3.10/site-packages (from boto3>=1.34.54->geniml) (1.0.1)\n",
      "Requirement already satisfied: s3transfer<0.11.0,>=0.10.0 in /Users/kancherj/miniforge3/lib/python3.10/site-packages (from boto3>=1.34.54->geniml) (0.10.2)\n",
      "Requirement already satisfied: urllib3!=2.2.0,<3,>=1.25.4 in /Users/kancherj/miniforge3/lib/python3.10/site-packages (from botocore>=1.34.54->geniml) (2.2.1)\n",
      "Requirement already satisfied: PyStemmer<3.0.0,>=2.2.0 in /Users/kancherj/miniforge3/lib/python3.10/site-packages (from fastembed>=0.2.5->geniml) (2.2.0.1)\n",
      "Requirement already satisfied: loguru<0.8.0,>=0.7.2 in /Users/kancherj/miniforge3/lib/python3.10/site-packages (from fastembed>=0.2.5->geniml) (0.7.2)\n",
      "Requirement already satisfied: mmh3<5.0,>=4.0 in /Users/kancherj/miniforge3/lib/python3.10/site-packages (from fastembed>=0.2.5->geniml) (4.1.0)\n",
      "Requirement already satisfied: onnx<2.0.0,>=1.15.0 in /Users/kancherj/miniforge3/lib/python3.10/site-packages (from fastembed>=0.2.5->geniml) (1.16.1)\n",
      "Requirement already satisfied: onnxruntime<2.0.0,>=1.17.0 in /Users/kancherj/miniforge3/lib/python3.10/site-packages (from fastembed>=0.2.5->geniml) (1.18.1)\n",
      "Requirement already satisfied: pillow<11.0.0,>=10.3.0 in /Users/kancherj/miniforge3/lib/python3.10/site-packages (from fastembed>=0.2.5->geniml) (10.4.0)\n",
      "Requirement already satisfied: snowballstemmer<3.0.0,>=2.2.0 in /Users/kancherj/miniforge3/lib/python3.10/site-packages (from fastembed>=0.2.5->geniml) (2.2.0)\n",
      "Requirement already satisfied: tqdm<5.0,>=4.66 in /Users/kancherj/miniforge3/lib/python3.10/site-packages (from fastembed>=0.2.5->geniml) (4.66.2)\n",
      "Requirement already satisfied: filelock in /Users/kancherj/miniforge3/lib/python3.10/site-packages (from huggingface-hub->geniml) (3.15.4)\n",
      "Requirement already satisfied: fsspec>=2023.5.0 in /Users/kancherj/miniforge3/lib/python3.10/site-packages (from huggingface-hub->geniml) (2024.6.1)\n",
      "Requirement already satisfied: typing-extensions>=3.7.4.3 in /Users/kancherj/miniforge3/lib/python3.10/site-packages (from huggingface-hub->geniml) (4.10.0)\n",
      "Requirement already satisfied: ncls==0.0.68 in /Users/kancherj/miniforge3/lib/python3.10/site-packages (from iranges>=0.2.11->iranges[optional]>=0.2.11->genomicranges) (0.0.68)\n",
      "Requirement already satisfied: polars in /Users/kancherj/miniforge3/lib/python3.10/site-packages (from iranges[optional]>=0.2.11->genomicranges) (1.1.0)\n",
      "Requirement already satisfied: bcrypt>=3.2 in /Users/kancherj/miniforge3/lib/python3.10/site-packages (from paramiko>=3.0.0->geniml) (4.1.3)\n",
      "Requirement already satisfied: cryptography>=3.3 in /Users/kancherj/miniforge3/lib/python3.10/site-packages (from paramiko>=3.0.0->geniml) (42.0.8)\n",
      "Requirement already satisfied: pynacl>=1.5 in /Users/kancherj/miniforge3/lib/python3.10/site-packages (from paramiko>=3.0.0->geniml) (1.5.0)\n",
      "Requirement already satisfied: rich>=10.3.0 in /Users/kancherj/miniforge3/lib/python3.10/site-packages (from peppy>=0.40.1->geniml) (13.7.1)\n",
      "Requirement already satisfied: pephubclient>=0.4.2 in /Users/kancherj/miniforge3/lib/python3.10/site-packages (from peppy>=0.40.1->geniml) (0.4.2)\n",
      "Requirement already satisfied: sqlalchemy<2.1,>=2 in /Users/kancherj/miniforge3/lib/python3.10/site-packages (from pybiocfilecache>=0.4.0->geniml) (2.0.31)\n",
      "Requirement already satisfied: six>=1.5 in /Users/kancherj/miniforge3/lib/python3.10/site-packages (from python-dateutil>=2.8.2->pandas) (1.16.0)\n",
      "Requirement already satisfied: charset-normalizer<4,>=2 in /Users/kancherj/miniforge3/lib/python3.10/site-packages (from requests>=2.31.0->geniml) (3.3.2)\n",
      "Requirement already satisfied: idna<4,>=2.5 in /Users/kancherj/miniforge3/lib/python3.10/site-packages (from requests>=2.31.0->geniml) (3.6)\n",
      "Requirement already satisfied: certifi>=2017.4.17 in /Users/kancherj/miniforge3/lib/python3.10/site-packages (from requests>=2.31.0->geniml) (2024.2.2)\n",
      "Requirement already satisfied: aiobotocore<3.0.0,>=2.5.4 in /Users/kancherj/miniforge3/lib/python3.10/site-packages (from s3fs>=2024.3.1->geniml) (2.13.1)\n",
      "Requirement already satisfied: aiohttp!=4.0.0a0,!=4.0.0a1 in /Users/kancherj/miniforge3/lib/python3.10/site-packages (from s3fs>=2024.3.1->geniml) (3.9.5)\n",
      "Requirement already satisfied: asciitree in /Users/kancherj/miniforge3/lib/python3.10/site-packages (from zarr>=2.17.2->geniml) (0.3.3)\n",
      "Requirement already satisfied: numcodecs>=0.10.0 in /Users/kancherj/miniforge3/lib/python3.10/site-packages (from zarr>=2.17.2->geniml) (0.13.0)\n",
      "Requirement already satisfied: fasteners in /Users/kancherj/miniforge3/lib/python3.10/site-packages (from zarr>=2.17.2->geniml) (0.19)\n",
      "Requirement already satisfied: smart-open>=1.8.1 in /Users/kancherj/miniforge3/lib/python3.10/site-packages (from gensim->geniml) (7.0.4)\n",
      "Requirement already satisfied: lightning-utilities<2.0,>=0.10.0 in /Users/kancherj/miniforge3/lib/python3.10/site-packages (from lightning->geniml) (0.11.5)\n",
      "Requirement already satisfied: torchmetrics<3.0,>=0.7.0 in /Users/kancherj/miniforge3/lib/python3.10/site-packages (from lightning->geniml) (1.4.0.post0)\n",
      "Requirement already satisfied: pytorch-lightning in /Users/kancherj/miniforge3/lib/python3.10/site-packages (from lightning->geniml) (2.3.3)\n",
      "Requirement already satisfied: sympy in /Users/kancherj/miniforge3/lib/python3.10/site-packages (from torch->geniml) (1.13.0)\n",
      "Requirement already satisfied: networkx in /Users/kancherj/miniforge3/lib/python3.10/site-packages (from torch->geniml) (3.3)\n",
      "Requirement already satisfied: jinja2 in /Users/kancherj/miniforge3/lib/python3.10/site-packages (from torch->geniml) (3.1.3)\n",
      "Requirement already satisfied: setuptools in /Users/kancherj/miniforge3/lib/python3.10/site-packages (from logmuse->geniml) (69.2.0)\n",
      "Requirement already satisfied: contourpy>=1.0.1 in /Users/kancherj/miniforge3/lib/python3.10/site-packages (from matplotlib->geniml) (1.2.0)\n",
      "Requirement already satisfied: cycler>=0.10 in /Users/kancherj/miniforge3/lib/python3.10/site-packages (from matplotlib->geniml) (0.12.1)\n",
      "Requirement already satisfied: fonttools>=4.22.0 in /Users/kancherj/miniforge3/lib/python3.10/site-packages (from matplotlib->geniml) (4.50.0)\n",
      "Requirement already satisfied: kiwisolver>=1.3.1 in /Users/kancherj/miniforge3/lib/python3.10/site-packages (from matplotlib->geniml) (1.4.5)\n",
      "Requirement already satisfied: pyparsing>=2.3.1 in /Users/kancherj/miniforge3/lib/python3.10/site-packages (from matplotlib->geniml) (3.1.2)\n",
      "Requirement already satisfied: grpcio>=1.41.0 in /Users/kancherj/miniforge3/lib/python3.10/site-packages (from qdrant-client->geniml) (1.64.1)\n",
      "Requirement already satisfied: grpcio-tools>=1.41.0 in /Users/kancherj/miniforge3/lib/python3.10/site-packages (from qdrant-client->geniml) (1.64.1)\n",
      "Requirement already satisfied: httpx>=0.20.0 in /Users/kancherj/miniforge3/lib/python3.10/site-packages (from httpx[http2]>=0.20.0->qdrant-client->geniml) (0.27.0)\n",
      "Requirement already satisfied: portalocker<3.0.0,>=2.7.0 in /Users/kancherj/miniforge3/lib/python3.10/site-packages (from qdrant-client->geniml) (2.10.1)\n",
      "Requirement already satisfied: pydantic>=1.10.8 in /Users/kancherj/miniforge3/lib/python3.10/site-packages (from qdrant-client->geniml) (2.8.2)\n",
      "Requirement already satisfied: joblib in /Users/kancherj/miniforge3/lib/python3.10/site-packages (from scanpy->geniml) (1.4.2)\n",
      "Requirement already satisfied: legacy-api-wrap>=1.4 in /Users/kancherj/miniforge3/lib/python3.10/site-packages (from scanpy->geniml) (1.4)\n",
      "Requirement already satisfied: numba>=0.56 in /Users/kancherj/miniforge3/lib/python3.10/site-packages (from scanpy->geniml) (0.60.0)\n",
      "Requirement already satisfied: patsy in /Users/kancherj/miniforge3/lib/python3.10/site-packages (from scanpy->geniml) (0.5.6)\n",
      "Requirement already satisfied: pynndescent>=0.5 in /Users/kancherj/miniforge3/lib/python3.10/site-packages (from scanpy->geniml) (0.5.13)\n",
      "Requirement already satisfied: scikit-learn>=0.24 in /Users/kancherj/miniforge3/lib/python3.10/site-packages (from scanpy->geniml) (1.5.1)\n",
      "Requirement already satisfied: session-info in /Users/kancherj/miniforge3/lib/python3.10/site-packages (from scanpy->geniml) (1.0.0)\n",
      "Requirement already satisfied: statsmodels>=0.13 in /Users/kancherj/miniforge3/lib/python3.10/site-packages (from scanpy->geniml) (0.14.2)\n",
      "Requirement already satisfied: umap-learn!=0.5.0,>=0.5 in /Users/kancherj/miniforge3/lib/python3.10/site-packages (from scanpy->geniml) (0.5.6)\n",
      "Requirement already satisfied: wrapt<2.0.0,>=1.10.10 in /Users/kancherj/miniforge3/lib/python3.10/site-packages (from aiobotocore<3.0.0,>=2.5.4->s3fs>=2024.3.1->geniml) (1.16.0)\n",
      "Requirement already satisfied: aioitertools<1.0.0,>=0.5.1 in /Users/kancherj/miniforge3/lib/python3.10/site-packages (from aiobotocore<3.0.0,>=2.5.4->s3fs>=2024.3.1->geniml) (0.11.0)\n",
      "Requirement already satisfied: aiosignal>=1.1.2 in /Users/kancherj/miniforge3/lib/python3.10/site-packages (from aiohttp!=4.0.0a0,!=4.0.0a1->s3fs>=2024.3.1->geniml) (1.3.1)\n",
      "Requirement already satisfied: attrs>=17.3.0 in /Users/kancherj/miniforge3/lib/python3.10/site-packages (from aiohttp!=4.0.0a0,!=4.0.0a1->s3fs>=2024.3.1->geniml) (23.2.0)\n",
      "Requirement already satisfied: frozenlist>=1.1.1 in /Users/kancherj/miniforge3/lib/python3.10/site-packages (from aiohttp!=4.0.0a0,!=4.0.0a1->s3fs>=2024.3.1->geniml) (1.4.1)\n",
      "Requirement already satisfied: multidict<7.0,>=4.5 in /Users/kancherj/miniforge3/lib/python3.10/site-packages (from aiohttp!=4.0.0a0,!=4.0.0a1->s3fs>=2024.3.1->geniml) (6.0.5)\n",
      "Requirement already satisfied: yarl<2.0,>=1.0 in /Users/kancherj/miniforge3/lib/python3.10/site-packages (from aiohttp!=4.0.0a0,!=4.0.0a1->s3fs>=2024.3.1->geniml) (1.9.4)\n",
      "Requirement already satisfied: async-timeout<5.0,>=4.0 in /Users/kancherj/miniforge3/lib/python3.10/site-packages (from aiohttp!=4.0.0a0,!=4.0.0a1->s3fs>=2024.3.1->geniml) (4.0.3)\n",
      "Requirement already satisfied: cffi>=1.12 in /Users/kancherj/miniforge3/lib/python3.10/site-packages (from cryptography>=3.3->paramiko>=3.0.0->geniml) (1.16.0)\n",
      "Requirement already satisfied: protobuf<6.0dev,>=5.26.1 in /Users/kancherj/miniforge3/lib/python3.10/site-packages (from grpcio-tools>=1.41.0->qdrant-client->geniml) (5.27.2)\n",
      "Requirement already satisfied: anyio in /Users/kancherj/miniforge3/lib/python3.10/site-packages (from httpx>=0.20.0->httpx[http2]>=0.20.0->qdrant-client->geniml) (4.4.0)\n",
      "Requirement already satisfied: httpcore==1.* in /Users/kancherj/miniforge3/lib/python3.10/site-packages (from httpx>=0.20.0->httpx[http2]>=0.20.0->qdrant-client->geniml) (1.0.5)\n",
      "Requirement already satisfied: sniffio in /Users/kancherj/miniforge3/lib/python3.10/site-packages (from httpx>=0.20.0->httpx[http2]>=0.20.0->qdrant-client->geniml) (1.3.1)\n",
      "Requirement already satisfied: h11<0.15,>=0.13 in /Users/kancherj/miniforge3/lib/python3.10/site-packages (from httpcore==1.*->httpx>=0.20.0->httpx[http2]>=0.20.0->qdrant-client->geniml) (0.14.0)\n",
      "Requirement already satisfied: h2<5,>=3 in /Users/kancherj/miniforge3/lib/python3.10/site-packages (from httpx[http2]>=0.20.0->qdrant-client->geniml) (4.1.0)\n",
      "Requirement already satisfied: jsonpatch<2.0,>=1.33 in /Users/kancherj/miniforge3/lib/python3.10/site-packages (from langchain-core<0.3,>=0.1.52->langchain-huggingface==0.0.2->geniml) (1.33)\n",
      "Requirement already satisfied: langsmith<0.2.0,>=0.1.75 in /Users/kancherj/miniforge3/lib/python3.10/site-packages (from langchain-core<0.3,>=0.1.52->langchain-huggingface==0.0.2->geniml) (0.1.88)\n",
      "Requirement already satisfied: tenacity!=8.4.0,<9.0.0,>=8.1.0 in /Users/kancherj/miniforge3/lib/python3.10/site-packages (from langchain-core<0.3,>=0.1.52->langchain-huggingface==0.0.2->geniml) (8.2.3)\n",
      "Requirement already satisfied: llvmlite<0.44,>=0.43.0dev0 in /Users/kancherj/miniforge3/lib/python3.10/site-packages (from numba>=0.56->scanpy->geniml) (0.43.0)\n",
      "Requirement already satisfied: coloredlogs in /Users/kancherj/miniforge3/lib/python3.10/site-packages (from onnxruntime<2.0.0,>=1.17.0->fastembed>=0.2.5->geniml) (15.0.1)\n",
      "Requirement already satisfied: flatbuffers in /Users/kancherj/miniforge3/lib/python3.10/site-packages (from onnxruntime<2.0.0,>=1.17.0->fastembed>=0.2.5->geniml) (24.3.25)\n",
      "Requirement already satisfied: typer>=0.7.0 in /Users/kancherj/miniforge3/lib/python3.10/site-packages (from pephubclient>=0.4.2->peppy>=0.40.1->geniml) (0.12.3)\n",
      "Requirement already satisfied: annotated-types>=0.4.0 in /Users/kancherj/miniforge3/lib/python3.10/site-packages (from pydantic>=1.10.8->qdrant-client->geniml) (0.7.0)\n",
      "Requirement already satisfied: pydantic-core==2.20.1 in /Users/kancherj/miniforge3/lib/python3.10/site-packages (from pydantic>=1.10.8->qdrant-client->geniml) (2.20.1)\n",
      "Requirement already satisfied: markdown-it-py>=2.2.0 in /Users/kancherj/miniforge3/lib/python3.10/site-packages (from rich>=10.3.0->peppy>=0.40.1->geniml) (3.0.0)\n",
      "Requirement already satisfied: pygments<3.0.0,>=2.13.0 in /Users/kancherj/miniforge3/lib/python3.10/site-packages (from rich>=10.3.0->peppy>=0.40.1->geniml) (2.17.2)\n",
      "Requirement already satisfied: threadpoolctl>=3.1.0 in /Users/kancherj/miniforge3/lib/python3.10/site-packages (from scikit-learn>=0.24->scanpy->geniml) (3.5.0)\n",
      "Requirement already satisfied: regex!=2019.12.17 in /Users/kancherj/miniforge3/lib/python3.10/site-packages (from transformers>=4.39.0->langchain-huggingface==0.0.2->geniml) (2024.5.15)\n",
      "Requirement already satisfied: safetensors>=0.4.1 in /Users/kancherj/miniforge3/lib/python3.10/site-packages (from transformers>=4.39.0->langchain-huggingface==0.0.2->geniml) (0.4.3)\n",
      "Requirement already satisfied: MarkupSafe>=2.0 in /Users/kancherj/miniforge3/lib/python3.10/site-packages (from jinja2->torch->geniml) (2.1.5)\n",
      "Requirement already satisfied: stdlib-list in /Users/kancherj/miniforge3/lib/python3.10/site-packages (from session-info->scanpy->geniml) (0.10.0)\n",
      "Requirement already satisfied: mpmath<1.4,>=1.1.0 in /Users/kancherj/miniforge3/lib/python3.10/site-packages (from sympy->torch->geniml) (1.3.0)\n",
      "Requirement already satisfied: pycparser in /Users/kancherj/miniforge3/lib/python3.10/site-packages (from cffi>=1.12->cryptography>=3.3->paramiko>=3.0.0->geniml) (2.21)\n",
      "Requirement already satisfied: humanfriendly>=9.1 in /Users/kancherj/miniforge3/lib/python3.10/site-packages (from coloredlogs->onnxruntime<2.0.0,>=1.17.0->fastembed>=0.2.5->geniml) (10.0)\n",
      "Requirement already satisfied: hyperframe<7,>=6.0 in /Users/kancherj/miniforge3/lib/python3.10/site-packages (from h2<5,>=3->httpx[http2]>=0.20.0->qdrant-client->geniml) (6.0.1)\n",
      "Requirement already satisfied: hpack<5,>=4.0 in /Users/kancherj/miniforge3/lib/python3.10/site-packages (from h2<5,>=3->httpx[http2]>=0.20.0->qdrant-client->geniml) (4.0.0)\n",
      "Requirement already satisfied: jsonpointer>=1.9 in /Users/kancherj/miniforge3/lib/python3.10/site-packages (from jsonpatch<2.0,>=1.33->langchain-core<0.3,>=0.1.52->langchain-huggingface==0.0.2->geniml) (2.4)\n",
      "Requirement already satisfied: orjson<4.0.0,>=3.9.14 in /Users/kancherj/miniforge3/lib/python3.10/site-packages (from langsmith<0.2.0,>=0.1.75->langchain-core<0.3,>=0.1.52->langchain-huggingface==0.0.2->geniml) (3.10.6)\n",
      "Requirement already satisfied: mdurl~=0.1 in /Users/kancherj/miniforge3/lib/python3.10/site-packages (from markdown-it-py>=2.2.0->rich>=10.3.0->peppy>=0.40.1->geniml) (0.1.2)\n",
      "Requirement already satisfied: click>=8.0.0 in /Users/kancherj/miniforge3/lib/python3.10/site-packages (from typer>=0.7.0->pephubclient>=0.4.2->peppy>=0.40.1->geniml) (8.1.7)\n",
      "Requirement already satisfied: shellingham>=1.3.0 in /Users/kancherj/miniforge3/lib/python3.10/site-packages (from typer>=0.7.0->pephubclient>=0.4.2->peppy>=0.40.1->geniml) (1.5.4)\n"
     ]
    }
   ],
   "source": [
    "!pip install -U biocutils genomicranges rds2py numpy pandas geniml"
   ]
  },
  {
   "cell_type": "markdown",
   "metadata": {},
   "source": [
    "#### R\n",
    "\n",
    "    ```r\n",
    "    BiocManager::install(c(\"AnnotationHub\"), \n",
    "         repos='http://cran.us.r-project.org')\n",
    "    ```"
   ]
  },
  {
   "cell_type": "markdown",
   "metadata": {},
   "source": [
    "## 1. Save Annotations as RDS\n",
    "\n",
    "Let's download the human reference genome and save the exon positions grouped by transcripts. For the purpose of the tutorial, we'll limit the exons to chromosome 22.\n",
    "\n",
    "#### R\n",
    "\n",
    "    ```r\n",
    "    suppressMessages(library(AnnotationHub))\n",
    "    \n",
    "    ah <- AnnotationHub()\n",
    "    ensdb <- query(ah, \"Ensembl 112 EnsDb for Homo sapiens\")[[1]]\n",
    "    exons_by_tx <- exonsBy(ensdb, \n",
    "        by = \"tx\", filter = SeqNameFilter(c(\"22\")), \n",
    "        columns= c(\"exon_id\", \"tx_name\", \"tx_id\", \"gene_name\", \"gene_id\"))\n",
    "    saveRDS(exons_by_tx, \"hg38_exons_by_tx.rds\")\n",
    "    ```"
   ]
  },
  {
   "cell_type": "markdown",
   "metadata": {},
   "source": [
    "## 2. Reading RDS files in Python\n",
    "\n",
    "The [rds2py](https://github.com/biocpy/rds2py) Python package allows us to read RDS files and create equivalent Python representations of R objects. Key features include:\n",
    "\n",
    "- Parsing common R objects into Python equivalents (e.g., matrices to NumPy arrays, data frames to Pandas DataFrames).\n",
    "- Ability to read S4 classes, enabling direct parsing of Bioconductor data types from R to Python.\n",
    "\n",
    "Reading an RDS file with rds2py involves two steps:\n",
    "\n",
    "1. Parse the RDS file into a Python dictionary containing data, its attributes, and associated metadata.\n",
    "2. Convert this dictionary into a suitable Python object using specific parser functions.\n",
    "\n",
    "This process allows a seamless transition between R and Python for bioinformatics analyses."
   ]
  },
  {
   "cell_type": "code",
   "execution_count": 23,
   "metadata": {
    "scrolled": true
   },
   "outputs": [
    {
     "name": "stdout",
     "output_type": "stream",
     "text": [
      "Exons by transcript:\n",
      "GenomicRangesList with 5387 ranges and 0 metadata columns\n",
      " \n",
      "Name: ENST00000006251 \n",
      "GenomicRanges with 9 ranges and 6 metadata columns\n",
      "    seqnames              ranges          strand           exon_id         tx_name           tx_id gene_name         gene_id exon_rank\n",
      "       <str>           <IRanges> <ndarray[int8]>            <list>          <list>          <list>    <list>          <list>    <list>\n",
      "[0]    chr22 44677057 - 44677241               + | ENSE00001838743 ENST00000006251 ENST00000006251      PRR5 ENSG00000186654         1\n",
      "[1]    chr22 44702492 - 44702609               + | ENSE00003647870 ENST00000006251 ENST00000006251      PRR5 ENSG00000186654         2\n",
      "[2]    chr22 44714591 - 44714672               + | ENSE00003614159 ENST00000006251 ENST00000006251      PRR5 ENSG00000186654         3\n",
      "[3]    chr22 44725244 - 44725293               + | ENSE00003568825 ENST00000006251 ENST00000006251      PRR5 ENSG00000186654         4\n",
      "[4]    chr22 44726577 - 44726635               + | ENSE00003465556 ENST00000006251 ENST00000006251      PRR5 ENSG00000186654         5\n",
      "[5]    chr22 44731730 - 44731822               + | ENSE00003642381 ENST00000006251 ENST00000006251      PRR5 ENSG00000186654         6\n",
      "[6]    chr22 44732251 - 44732392               + | ENSE00003658491 ENST00000006251 ENST00000006251      PRR5 ENSG00000186654         7\n",
      "[7]    chr22 44735027 - 44735163               + | ENSE00003692865 ENST00000006251 ENST00000006251      PRR5 ENSG00000186654         8\n",
      "[8]    chr22 44736772 - 44737681               + | ENSE00001846334 ENST00000006251 ENST00000006251      PRR5 ENSG00000186654         9\n",
      "------\n",
      "seqinfo(1 sequences): chr22\n",
      " \n",
      "Name: ENST00000008876 \n",
      "GenomicRanges with 10 ranges and 6 metadata columns\n",
      "    seqnames              ranges          strand           exon_id         tx_name           tx_id gene_name         gene_id exon_rank\n",
      "       <str>           <IRanges> <ndarray[int8]>            <list>          <list>          <list>    <list>          <list>    <list>\n",
      "[0]    chr22 50603133 - 50603499               + | ENSE00003608148 ENST00000008876 ENST00000008876  MAPK8IP2 ENSG00000008735         1\n",
      "[1]    chr22 50603626 - 50603720               + | ENSE00003768317 ENST00000008876 ENST00000008876  MAPK8IP2 ENSG00000008735         2\n",
      "[2]    chr22 50603841 - 50605065               + | ENSE00003772801 ENST00000008876 ENST00000008876  MAPK8IP2 ENSG00000008735         3\n",
      "[3]    chr22 50605368 - 50605444               + | ENSE00003773674 ENST00000008876 ENST00000008876  MAPK8IP2 ENSG00000008735         4\n",
      "[4]    chr22 50605562 - 50605735               + | ENSE00003765641 ENST00000008876 ENST00000008876  MAPK8IP2 ENSG00000008735         5\n",
      "[5]    chr22 50605825 - 50605935               + | ENSE00003763622 ENST00000008876 ENST00000008876  MAPK8IP2 ENSG00000008735         6\n",
      "[6]    chr22 50606658 - 50606766               + | ENSE00003773228 ENST00000008876 ENST00000008876  MAPK8IP2 ENSG00000008735         7\n",
      "[7]    chr22 50606921 - 50606992               + | ENSE00003769486 ENST00000008876 ENST00000008876  MAPK8IP2 ENSG00000008735         8\n",
      "[8]    chr22 50610212 - 50610311               + | ENSE00003772161 ENST00000008876 ENST00000008876  MAPK8IP2 ENSG00000008735         9\n",
      "[9]    chr22 50610707 - 50613982               + | ENSE00003731955 ENST00000008876 ENST00000008876  MAPK8IP2 ENSG00000008735        10\n",
      "------\n",
      "seqinfo(1 sequences): chr22\n",
      " \n",
      "Name: ENST00000043402 \n",
      "GenomicRanges with 2 ranges and 6 metadata columns\n",
      "    seqnames              ranges          strand           exon_id         tx_name           tx_id gene_name         gene_id exon_rank\n",
      "       <str>           <IRanges> <ndarray[int8]>            <list>          <list>          <list>    <list>          <list>    <list>\n",
      "[0]    chr22 20268071 - 20268319               - | ENSE00001358408 ENST00000043402 ENST00000043402     RTN4R ENSG00000040608         1\n",
      "[1]    chr22 20241415 - 20243111               - | ENSE00001557601 ENST00000043402 ENST00000043402     RTN4R ENSG00000040608         2\n",
      "------\n",
      "seqinfo(1 sequences): chr22\n",
      " \n",
      "Name:  \n",
      "GenomicRanges with 15 ranges and 6 metadata columns\n",
      "     seqnames              ranges          strand        exon_id   tx_name     tx_id gene_name gene_id exon_rank\n",
      "        <str>           <IRanges> <ndarray[int8]>         <list>    <list>    <list>    <list>  <list>    <list>\n",
      " [0]    chr22 33919995 - 33920477               - |  LRG_856t1e1 LRG_856t2 LRG_856t2    LARGE1 LRG_856         1\n",
      " [1]    chr22 33761371 - 33761559               - |  LRG_856t1e3 LRG_856t2 LRG_856t2    LARGE1 LRG_856         2\n",
      " [2]    chr22 33650367 - 33650669               - |  LRG_856t1e4 LRG_856t2 LRG_856t2    LARGE1 LRG_856         3\n",
      "          ...                 ...             ... |          ...       ...       ...       ...     ...       ...\n",
      "[12]    chr22 33283202 - 33283349               - | LRG_856t1e14 LRG_856t2 LRG_856t2    LARGE1 LRG_856        13\n",
      "[13]    chr22 33277060 - 33277256               - | LRG_856t1e15 LRG_856t2 LRG_856t2    LARGE1 LRG_856        14\n",
      "[14]    chr22 33272509 - 33274625               - | LRG_856t1e16 LRG_856t2 LRG_856t2    LARGE1 LRG_856        15\n",
      "------\n",
      "seqinfo(1 sequences): chr22\n",
      " \n",
      "Name: LRG_856t2 \n",
      "GenomicRanges with 7 ranges and 6 metadata columns\n",
      "    seqnames              ranges          strand      exon_id  tx_name    tx_id gene_name gene_id exon_rank\n",
      "       <str>           <IRanges> <ndarray[int8]>       <list>   <list>   <list>    <list>  <list>    <list>\n",
      "[0]    chr22 37244114 - 37244266               - | LRG_97t1e1 LRG_97t1 LRG_97t1      RAC2  LRG_97         1\n",
      "[1]    chr22 37241587 - 37241659               - | LRG_97t1e2 LRG_97t1 LRG_97t1      RAC2  LRG_97         2\n",
      "[2]    chr22 37232801 - 37232919               - | LRG_97t1e3 LRG_97t1 LRG_97t1      RAC2  LRG_97         3\n",
      "[3]    chr22 37231932 - 37231995               - | LRG_97t1e4 LRG_97t1 LRG_97t1      RAC2  LRG_97         4\n",
      "[4]    chr22 37231231 - 37231391               - | LRG_97t1e5 LRG_97t1 LRG_97t1      RAC2  LRG_97         5\n",
      "[5]    chr22 37226671 - 37226804               - | LRG_97t1e6 LRG_97t1 LRG_97t1      RAC2  LRG_97         6\n",
      "[6]    chr22 37225270 - 37226040               - | LRG_97t1e7 LRG_97t1 LRG_97t1      RAC2  LRG_97         7\n",
      "------\n",
      "seqinfo(1 sequences): chr22\n",
      " \n",
      "Name: LRG_97t1 \n",
      "GenomicRanges with 21 ranges and 6 metadata columns\n",
      "     seqnames              ranges          strand        exon_id   tx_name     tx_id gene_name gene_id exon_rank\n",
      "        <str>           <IRanges> <ndarray[int8]>         <list>    <list>    <list>    <list>  <list>    <list>\n",
      " [0]    chr22 20982297 - 20982572               + |  LRG_989t1e1 LRG_989t1 LRG_989t1     LZTR1 LRG_989         1\n",
      " [1]    chr22 20983027 - 20983090               + |  LRG_989t1e2 LRG_989t1 LRG_989t1     LZTR1 LRG_989         2\n",
      " [2]    chr22 20985841 - 20985898               + |  LRG_989t1e3 LRG_989t1 LRG_989t1     LZTR1 LRG_989         3\n",
      "          ...                 ...             ... |          ...       ...       ...       ...     ...       ...\n",
      "[18]    chr22 20996696 - 20996802               + | LRG_989t1e19 LRG_989t1 LRG_989t1     LZTR1 LRG_989        19\n",
      "[19]    chr22 20996886 - 20996967               + | LRG_989t1e20 LRG_989t1 LRG_989t1     LZTR1 LRG_989        20\n",
      "[20]    chr22 20997232 - 20999033               + | LRG_989t1e21 LRG_989t1 LRG_989t1     LZTR1 LRG_989        21\n",
      "------\n",
      "seqinfo(1 sequences): chr22\n",
      " \n",
      "\n"
     ]
    }
   ],
   "source": [
    "from rds2py import read_rds\n",
    "hg38_robject = read_rds(\"./hg38_exons_by_tx.rds\")\n",
    "\n",
    "from rds2py.granges import as_granges_list\n",
    "by_tx = as_granges_list(hg38_robject)\n",
    "\n",
    "print(\"Exons by transcript:\")\n",
    "print(by_tx)"
   ]
  },
  {
   "cell_type": "markdown",
   "metadata": {},
   "source": [
    "## 2. Basic Genomic Operations\n",
    "\n",
    "Now, let's perform some basic operations like finding Transcription Start Sites (TSS) and promoter regions. These operations are fundamental in genomic analysis as they help us identify key regulatory regions of the genome.\n",
    "\n",
    "### 2.1 Create a `GenomicRangesList` by gene\n",
    "\n",
    "To identify TSS or define promoter regions, let's first reprocess the input to create a `GenomicRangesList` by gene symbols.\n",
    "\n",
    "To achieve this, we unlist the `GenomicRangesList` object. This is accomplished in Python using the `as_genomic_ranges()` method. "
   ]
  },
  {
   "cell_type": "code",
   "execution_count": 24,
   "metadata": {},
   "outputs": [],
   "source": [
    "all_ranges = by_tx.as_genomic_ranges()"
   ]
  },
  {
   "cell_type": "markdown",
   "metadata": {},
   "source": [
    "Then we split the object using the `gene_name` metadata column in `mcols()`. \n",
    "\n",
    "```{important}\n",
    "We provide accessors to get or set attributes of the class. Most folks in Python may be familiar with direct access to class members (via properties or @property), but this should generally be avoided, as it is too easy to perform modifications via one-liners with the class.property on the left-hand side of an assignment.\n",
    "\n",
    "For more information, please refer to our [developer guide](https://github.com/BiocPy/developer_guide).\n",
    "```\n",
    "\n",
    "```{note}\n",
    "While gene IDs are unique, gene symbols are not. In addition, this list has genes with no symbols.\n",
    "```"
   ]
  },
  {
   "cell_type": "code",
   "execution_count": 25,
   "metadata": {
    "scrolled": true
   },
   "outputs": [
    {
     "name": "stdout",
     "output_type": "stream",
     "text": [
      "Exons by gene:\n",
      "GenomicRangesList with 932 ranges and 0 metadata columns\n",
      " \n",
      "Name:  \n",
      "GenomicRanges with 1846 ranges and 6 metadata columns\n",
      "                seqnames              ranges          strand           exon_id         tx_name           tx_id gene_name         gene_id exon_rank\n",
      "                   <str>           <IRanges> <ndarray[int8]>            <list>          <list>          <list>    <list>          <list>    <list>\n",
      "ENST00000255890    chr22 23402361 - 23402568               - | ENSE00001754779 ENST00000255890 ENST00000255890           ENSG00000290920         1\n",
      "ENST00000255890    chr22 23402037 - 23402156               - | ENSE00001700441 ENST00000255890 ENST00000255890           ENSG00000290920         2\n",
      "ENST00000255890    chr22 23401841 - 23401954               - | ENSE00004028898 ENST00000255890 ENST00000255890           ENSG00000290920         3\n",
      "                     ...                 ...             ... |             ...             ...             ...       ...             ...       ...\n",
      "ENST00000706202    chr22 21008247 - 21009450               - | ENSE00003995059 ENST00000706202 ENST00000706202           ENSG00000291240         7\n",
      "ENST00000714325    chr22 18939446 - 18947693               + | ENSE00003802171 ENST00000714325 ENST00000714325           ENSG00000284294         1\n",
      "ENST00000715281    chr22 35838583 - 35838658               - | ENSE00004026430 ENST00000715281 ENST00000715281           ENSG00000293594         1\n",
      "------\n",
      "seqinfo(1 sequences): chr22\n",
      " \n",
      "Name: 5_8S_rRNA \n",
      "GenomicRanges with 1 range and 6 metadata columns\n",
      "                seqnames              ranges          strand           exon_id         tx_name           tx_id gene_name         gene_id exon_rank\n",
      "                   <str>           <IRanges> <ndarray[int8]>            <list>          <list>          <list>    <list>          <list>    <list>\n",
      "ENST00000612732    chr22 11249809 - 11249960               - | ENSE00003735240 ENST00000612732 ENST00000612732 5_8S_rRNA ENSG00000276871         1\n",
      "------\n",
      "seqinfo(1 sequences): chr22\n",
      " \n",
      "Name: A4GALT \n",
      "GenomicRanges with 20 ranges and 6 metadata columns\n",
      "                seqnames              ranges          strand           exon_id         tx_name           tx_id gene_name         gene_id exon_rank\n",
      "                   <str>           <IRanges> <ndarray[int8]>            <list>          <list>          <list>    <list>          <list>    <list>\n",
      "ENST00000249005    chr22 42695491 - 42695634               - | ENSE00001109573 ENST00000249005 ENST00000249005    A4GALT ENSG00000128274         1\n",
      "ENST00000249005    chr22 42692122 - 42693998               - | ENSE00000880583 ENST00000249005 ENST00000249005    A4GALT ENSG00000128274         2\n",
      "ENST00000381278    chr22 42720797 - 42720820               - | ENSE00003818792 ENST00000381278 ENST00000381278    A4GALT ENSG00000128274         1\n",
      "                     ...                 ...             ... |             ...             ...             ...       ...             ...       ...\n",
      "      LRG_795t1    chr22 42720797 - 42720871               - |     LRG_795t1e1       LRG_795t1       LRG_795t1    A4GALT         LRG_795         1\n",
      "      LRG_795t1    chr22 42695491 - 42695632               - |     LRG_795t1e2       LRG_795t1       LRG_795t1    A4GALT         LRG_795         2\n",
      "      LRG_795t1    chr22 42692121 - 42693998               - |     LRG_795t1e3       LRG_795t1       LRG_795t1    A4GALT         LRG_795         3\n",
      "------\n",
      "seqinfo(1 sequences): chr22\n",
      " \n",
      "Name:  \n",
      "GenomicRanges with 26 ranges and 6 metadata columns\n",
      "                seqnames              ranges          strand           exon_id         tx_name           tx_id gene_name         gene_id exon_rank\n",
      "                   <str>           <IRanges> <ndarray[int8]>            <list>          <list>          <list>    <list>          <list>    <list>\n",
      "ENST00000402174    chr22 28917389 - 28917482               + | ENSE00001552635 ENST00000402174 ENST00000402174     ZNRF3 ENSG00000183579         1\n",
      "ENST00000402174    chr22 28987076 - 28987202               + | ENSE00003547707 ENST00000402174 ENST00000402174     ZNRF3 ENSG00000183579         2\n",
      "ENST00000402174    chr22 29042495 - 29042570               + | ENSE00001329477 ENST00000402174 ENST00000402174     ZNRF3 ENSG00000183579         3\n",
      "                     ...                 ...             ... |             ...             ...             ...       ...             ...       ...\n",
      "ENST00000544604    chr22 29048389 - 29048492               + | ENSE00001325812 ENST00000544604 ENST00000544604     ZNRF3 ENSG00000183579         7\n",
      "ENST00000544604    chr22 29049197 - 29050949               + | ENSE00001308098 ENST00000544604 ENST00000544604     ZNRF3 ENSG00000183579         8\n",
      "ENST00000544604    chr22 29053579 - 29057489               + | ENSE00001427475 ENST00000544604 ENST00000544604     ZNRF3 ENSG00000183579         9\n",
      "------\n",
      "seqinfo(1 sequences): chr22\n",
      " \n",
      "Name: ZNRF3 \n",
      "GenomicRanges with 3 ranges and 6 metadata columns\n",
      "                seqnames              ranges          strand           exon_id         tx_name           tx_id gene_name         gene_id exon_rank\n",
      "                   <str>           <IRanges> <ndarray[int8]>            <list>          <list>          <list>    <list>          <list>    <list>\n",
      "ENST00000325660    chr22 29031391 - 29031477               - | ENSE00001718965 ENST00000325660 ENST00000325660 ZNRF3-AS1 ENSG00000177993         1\n",
      "ENST00000325660    chr22 29031084 - 29031157               - | ENSE00001643791 ENST00000325660 ENST00000325660 ZNRF3-AS1 ENSG00000177993         2\n",
      "ENST00000325660    chr22 29024999 - 29027010               - | ENSE00001267818 ENST00000325660 ENST00000325660 ZNRF3-AS1 ENSG00000177993         3\n",
      "------\n",
      "seqinfo(1 sequences): chr22\n",
      " \n",
      "Name: ZNRF3-AS1 \n",
      "GenomicRanges with 2 ranges and 6 metadata columns\n",
      "                seqnames              ranges          strand           exon_id         tx_name           tx_id gene_name         gene_id exon_rank\n",
      "                   <str>           <IRanges> <ndarray[int8]>            <list>          <list>          <list>    <list>          <list>    <list>\n",
      "ENST00000412798    chr22 28992721 - 28992938               + | ENSE00001659048 ENST00000412798 ENST00000412798 ZNRF3-IT1 ENSG00000235786         1\n",
      "ENST00000412798    chr22 29018164 - 29018621               + | ENSE00001595182 ENST00000412798 ENST00000412798 ZNRF3-IT1 ENSG00000235786         2\n",
      "------\n",
      "seqinfo(1 sequences): chr22\n",
      " \n",
      "\n"
     ]
    }
   ],
   "source": [
    "by_gene = all_ranges.split(\n",
    "    groups=all_ranges.get_mcols().get_column(\"gene_name\")\n",
    ")\n",
    "\n",
    "print(\"Exons by gene:\")\n",
    "print(by_gene)"
   ]
  },
  {
   "cell_type": "markdown",
   "metadata": {},
   "source": [
    "### 2.2 Finding Transcription Start Sites (TSS)\n",
    "\n",
    "Transcription Start Sites (TSS) are the locations where transcription of a gene begins. Identifying TSS is crucial for understanding gene regulation, as many regulatory elements are located near the TSS. \n",
    "\n",
    "Let's use the `range()` method to get the full extent of each gene."
   ]
  },
  {
   "cell_type": "code",
   "execution_count": 26,
   "metadata": {
    "scrolled": true
   },
   "outputs": [
    {
     "name": "stdout",
     "output_type": "stream",
     "text": [
      "Gene ranges:\n",
      "GenomicRangesList with 932 ranges and 0 metadata columns\n",
      " \n",
      "Name:  \n",
      "GenomicRanges with 2 ranges and 0 metadata columns\n",
      "    seqnames              ranges          strand\n",
      "       <str>           <IRanges> <ndarray[int8]>\n",
      "[0]    chr22 11066418 - 50674175               +\n",
      "[1]    chr22 15282557 - 50755435               -\n",
      "------\n",
      "seqinfo(1 sequences): chr22\n",
      " \n",
      "Name: 5_8S_rRNA \n",
      "GenomicRanges with 1 range and 0 metadata columns\n",
      "    seqnames              ranges          strand\n",
      "       <str>           <IRanges> <ndarray[int8]>\n",
      "[0]    chr22 11249809 - 11249960               -\n",
      "------\n",
      "seqinfo(1 sequences): chr22\n",
      " \n",
      "Name: A4GALT \n",
      "GenomicRanges with 1 range and 0 metadata columns\n",
      "    seqnames              ranges          strand\n",
      "       <str>           <IRanges> <ndarray[int8]>\n",
      "[0]    chr22 42692121 - 42721299               -\n",
      "------\n",
      "seqinfo(1 sequences): chr22\n",
      " \n",
      "Name:  \n",
      "GenomicRanges with 1 range and 0 metadata columns\n",
      "    seqnames              ranges          strand\n",
      "       <str>           <IRanges> <ndarray[int8]>\n",
      "[0]    chr22 28883572 - 29057489               +\n",
      "------\n",
      "seqinfo(1 sequences): chr22\n",
      " \n",
      "Name: ZNRF3 \n",
      "GenomicRanges with 1 range and 0 metadata columns\n",
      "    seqnames              ranges          strand\n",
      "       <str>           <IRanges> <ndarray[int8]>\n",
      "[0]    chr22 29024999 - 29031477               -\n",
      "------\n",
      "seqinfo(1 sequences): chr22\n",
      " \n",
      "Name: ZNRF3-AS1 \n",
      "GenomicRanges with 1 range and 0 metadata columns\n",
      "    seqnames              ranges          strand\n",
      "       <str>           <IRanges> <ndarray[int8]>\n",
      "[0]    chr22 28992721 - 29018621               +\n",
      "------\n",
      "seqinfo(1 sequences): chr22\n",
      " \n",
      "\n"
     ]
    }
   ],
   "source": [
    "ranges_by_gene = by_gene.range()\n",
    "\n",
    "print(\"Gene ranges:\")\n",
    "print(ranges_by_gene)"
   ]
  },
  {
   "cell_type": "markdown",
   "metadata": {},
   "source": [
    "We convert the list to a `GenomicRanges` object."
   ]
  },
  {
   "cell_type": "code",
   "execution_count": 27,
   "metadata": {},
   "outputs": [
    {
     "name": "stdout",
     "output_type": "stream",
     "text": [
      "as GenomicRanges:\n",
      "GenomicRanges with 936 ranges and 0 metadata columns\n",
      "          seqnames              ranges          strand\n",
      "             <str>           <IRanges> <ndarray[int8]>\n",
      "             chr22 11066418 - 50674175               +\n",
      "             chr22 15282557 - 50755435               -\n",
      "5_8S_rRNA    chr22 11249809 - 11249960               -\n",
      "               ...                 ...             ...\n",
      "    ZNRF3    chr22 28883572 - 29057489               +\n",
      "ZNRF3-AS1    chr22 29024999 - 29031477               -\n",
      "ZNRF3-IT1    chr22 28992721 - 29018621               +\n",
      "------\n",
      "seqinfo(1 sequences): chr22\n"
     ]
    }
   ],
   "source": [
    "gr_by_gene = ranges_by_gene.as_genomic_ranges()\n",
    "\n",
    "print(\"as GenomicRanges:\")\n",
    "print(gr_by_gene)"
   ]
  },
  {
   "cell_type": "markdown",
   "metadata": {},
   "source": [
    "Then we resize to a width of 1 base pair at the start of each range to pinpoint the TSS."
   ]
  },
  {
   "cell_type": "code",
   "execution_count": 28,
   "metadata": {},
   "outputs": [
    {
     "name": "stdout",
     "output_type": "stream",
     "text": [
      "Transcript Start Sites:\n",
      "GenomicRanges with 936 ranges and 0 metadata columns\n",
      "          seqnames              ranges          strand\n",
      "             <str>           <IRanges> <ndarray[int8]>\n",
      "             chr22 11066418 - 50674175               +\n",
      "             chr22 15282557 - 50755435               -\n",
      "5_8S_rRNA    chr22 11249809 - 11249960               -\n",
      "               ...                 ...             ...\n",
      "    ZNRF3    chr22 28883572 - 29057489               +\n",
      "ZNRF3-AS1    chr22 29024999 - 29031477               -\n",
      "ZNRF3-IT1    chr22 28992721 - 29018621               +\n",
      "------\n",
      "seqinfo(1 sequences): chr22\n"
     ]
    }
   ],
   "source": [
    "tss = gr_by_gene.resize(width=1, fix=\"start\")\n",
    "\n",
    "print(\"Transcript Start Sites:\")\n",
    "print(gr_by_gene)"
   ]
  },
  {
   "cell_type": "markdown",
   "metadata": {},
   "source": [
    "### 2.3 Defining Promoter Regions\n",
    "\n",
    "Here, we're defining promoters as the region 2000 base pairs upstream to 200 base pairs downstream of each TSS. This definition can vary depending on the specific analysis, but this range often captures important regulatory elements."
   ]
  },
  {
   "cell_type": "code",
   "execution_count": 29,
   "metadata": {},
   "outputs": [
    {
     "name": "stdout",
     "output_type": "stream",
     "text": [
      "Promoter Regions:\n",
      "GenomicRanges with 936 ranges and 0 metadata columns\n",
      "          seqnames              ranges          strand\n",
      "             <str>           <IRanges> <ndarray[int8]>\n",
      "             chr22 11064418 - 11066618               +\n",
      "             chr22 50755235 - 50757435               -\n",
      "5_8S_rRNA    chr22 11249760 - 11251960               -\n",
      "               ...                 ...             ...\n",
      "    ZNRF3    chr22 28881572 - 28883772               +\n",
      "ZNRF3-AS1    chr22 29031277 - 29033477               -\n",
      "ZNRF3-IT1    chr22 28990721 - 28992921               +\n",
      "------\n",
      "seqinfo(1 sequences): chr22\n"
     ]
    }
   ],
   "source": [
    "promoters = tss.promoters(upstream=2000, downstream=200)\n",
    "\n",
    "print(\"Promoter Regions:\")\n",
    "print(promoters)"
   ]
  },
  {
   "cell_type": "markdown",
   "metadata": {},
   "source": [
    "```{note}\n",
    "Please be aware that because gene symbols may not be unique, this `GenomicRanges` object might contain duplicates. You might want to resolve duplicate symbols by making the symbols unique. We will leave this as an exercise for the reader.\n",
    "```\n",
    "\n",
    "## 3. Overlap Analysis\n",
    "\n",
    "A common task in genomic analysis is finding overlaps between different genomic features. This helps us understand the relationships between various elements in the genome and can provide insights into gene regulation and function.\n",
    "\n",
    "### 3.1 Reading ChIP-seq Peaks\n",
    "\n",
    "ChIP-seq (Chromatin Immunoprecipitation followed by sequencing) is a method used to identify binding sites of DNA-associated proteins. The peaks represent regions where a protein of interest is likely bound to the DNA. We're focusing on chromosome 22 for this example to keep the dataset manageable.\n",
    "\n",
    "For the purpose of this tutorial, let's download a bed file containing peaks from a ChIP-seq experiment on \"Human B cells\" to identify \"EZH2\" binding sites (from ENCODE) and cataloged in [bedbase.org](https://bedbase.org/bed/be4054acf6e3feeb4dc490e6430e358e)."
   ]
  },
  {
   "cell_type": "code",
   "execution_count": 30,
   "metadata": {},
   "outputs": [
    {
     "name": "stdout",
     "output_type": "stream",
     "text": [
      "GenomicRanges with 1441 ranges and 0 metadata columns\n",
      "       seqnames              ranges          strand\n",
      "          <str>           <IRanges> <ndarray[int8]>\n",
      "   [0]    chr22 19766788 - 19767078               *\n",
      "   [1]    chr22 17369888 - 17370178               *\n",
      "   [2]    chr22 19756445 - 19756735               *\n",
      "            ...                 ...             ...\n",
      "[1438]    chr22 27212058 - 27212348               *\n",
      "[1439]    chr22 49201359 - 49201649               *\n",
      "[1440]    chr22 49663362 - 49663652               *\n",
      "------\n",
      "seqinfo(46 sequences): chr1 chr10 chr11 ... chrUn_KI270750v1 chrUn_KI270752v1 chrX\n"
     ]
    }
   ],
   "source": [
    "from geniml.bbclient import BBClient\n",
    "\n",
    "bbclient = BBClient(cache_folder=\"cache\", bedbase_api=\"https://api.bedbase.org\")\n",
    "bedfile_id = \"be4054acf6e3feeb4dc490e6430e358e\" \n",
    "bedfile = bbclient.load_bed(bedfile_id)\n",
    "peaks = bedfile.to_granges()\n",
    "\n",
    "filter_chr22 = [x == \"chr22\" for x in peaks.get_seqnames()]\n",
    "peaks_chr22 = peaks[filter_chr22]\n",
    "\n",
    "print(peaks_chr22)"
   ]
  },
  {
   "cell_type": "markdown",
   "metadata": {},
   "source": [
    "### 3.2 Finding Overlaps with TSS\n",
    "\n",
    "Here, we're identifying ChIP-seq peaks that overlap with TSS. This analysis can help us understand if the protein of interest tends to bind near the start of genes, which could suggest a role in transcription initiation."
   ]
  },
  {
   "cell_type": "code",
   "execution_count": 31,
   "metadata": {},
   "outputs": [
    {
     "name": "stdout",
     "output_type": "stream",
     "text": [
      "Peak indices that overlap with first 10 TSS:\n",
      "[[], [], [], [55], [217], [], [], [], [], []]\n"
     ]
    }
   ],
   "source": [
    "overlaps = peaks_chr22.find_overlaps(tss)\n",
    "\n",
    "print(\"Peak indices that overlap with first 10 TSS:\")\n",
    "print(overlaps[:10])"
   ]
  },
  {
   "cell_type": "markdown",
   "metadata": {},
   "source": [
    "```{note}\n",
    "`find_overlaps` returns a `list` with the same length as TSS, indicating which indices from peaks overlap with each of the TSS. Ideally, we would want to return a `Hits` object similar to the Bioconductor implementation.\n",
    "\n",
    "**TODO: Future plans to convert this into a `Hits` object.**\n",
    "```\n",
    "\n",
    "Let's identify the peaks that overlap with TSS."
   ]
  },
  {
   "cell_type": "code",
   "execution_count": 32,
   "metadata": {},
   "outputs": [
    {
     "name": "stdout",
     "output_type": "stream",
     "text": [
      "GenomicRanges with 35 ranges and 0 metadata columns\n",
      "     seqnames              ranges          strand\n",
      "        <str>           <IRanges> <ndarray[int8]>\n",
      " [0]    chr22 19756445 - 19756735               *\n",
      " [1]    chr22 38467935 - 38468225               *\n",
      " [2]    chr22 24952664 - 24952954               *\n",
      "          ...                 ...             ...\n",
      "[32]    chr22 21032552 - 21032842               *\n",
      "[33]    chr22 50270553 - 50270843               *\n",
      "[34]    chr22 19131257 - 19131547               *\n",
      "------\n",
      "seqinfo(46 sequences): chr1 chr10 chr11 ... chrUn_KI270750v1 chrUn_KI270752v1 chrX\n"
     ]
    }
   ],
   "source": [
    "import itertools\n",
    "\n",
    "all_indices = list(set(itertools.chain.from_iterable(overlaps)))\n",
    "peaks_by_tss = peaks_chr22[all_indices]\n",
    "print(peaks_by_tss)"
   ]
  },
  {
   "cell_type": "markdown",
   "metadata": {},
   "source": [
    "Instead, one can subset peaks that overlap with TSS using the `subset_by_overlaps` method:"
   ]
  },
  {
   "cell_type": "code",
   "execution_count": 33,
   "metadata": {},
   "outputs": [
    {
     "name": "stdout",
     "output_type": "stream",
     "text": [
      "GenomicRanges with 35 ranges and 0 metadata columns\n",
      "     seqnames              ranges          strand\n",
      "        <str>           <IRanges> <ndarray[int8]>\n",
      " [0]    chr22 19756445 - 19756735               *\n",
      " [1]    chr22 38467935 - 38468225               *\n",
      " [2]    chr22 24952664 - 24952954               *\n",
      "          ...                 ...             ...\n",
      "[32]    chr22 21032552 - 21032842               *\n",
      "[33]    chr22 50270553 - 50270843               *\n",
      "[34]    chr22 19131257 - 19131547               *\n",
      "------\n",
      "seqinfo(46 sequences): chr1 chr10 chr11 ... chrUn_KI270750v1 chrUn_KI270752v1 chrX\n"
     ]
    }
   ],
   "source": [
    "peaks_by_tss2 = peaks_chr22.subset_by_overlaps(tss)\n",
    "print(peaks_by_tss2)"
   ]
  },
  {
   "cell_type": "markdown",
   "metadata": {},
   "source": [
    "Additionally, in some cases, we may want to ignore strand information (`ignore_strand=True`) when finding overlaps."
   ]
  },
  {
   "cell_type": "code",
   "execution_count": 34,
   "metadata": {},
   "outputs": [
    {
     "name": "stdout",
     "output_type": "stream",
     "text": [
      "GenomicRanges with 35 ranges and 0 metadata columns\n",
      "     seqnames              ranges          strand\n",
      "        <str>           <IRanges> <ndarray[int8]>\n",
      " [0]    chr22 19756445 - 19756735               *\n",
      " [1]    chr22 38467935 - 38468225               *\n",
      " [2]    chr22 24952664 - 24952954               *\n",
      "          ...                 ...             ...\n",
      "[32]    chr22 21032552 - 21032842               *\n",
      "[33]    chr22 50270553 - 50270843               *\n",
      "[34]    chr22 19131257 - 19131547               *\n",
      "------\n",
      "seqinfo(46 sequences): chr1 chr10 chr11 ... chrUn_KI270750v1 chrUn_KI270752v1 chrX\n"
     ]
    }
   ],
   "source": [
    "peaks_by_tss_ignoring_strand = peaks_chr22.subset_by_overlaps(tss, ignore_strand=True)\n",
    "print(peaks_by_tss_ignoring_strand)"
   ]
  },
  {
   "cell_type": "markdown",
   "metadata": {},
   "source": [
    "```{note}\n",
    "This yields the same results for this particular scenario, but may not if the 'peaks' contain strand information.\n",
    "```\n",
    "\n",
    "### 3.3 Finding Overlaps with Promoters\n",
    "\n",
    "This operation finds ChIP-seq peaks that overlap with our defined promoter regions. If a significant number of peaks fall within promoters, it might suggest that the protein plays a role in gene regulation through promoter binding. This kind of analysis is often used to characterize the binding patterns of transcription factors or other regulatory proteins."
   ]
  },
  {
   "cell_type": "code",
   "execution_count": 35,
   "metadata": {},
   "outputs": [
    {
     "name": "stdout",
     "output_type": "stream",
     "text": [
      "Peaks Overlapping with Promoters:\n",
      "GenomicRanges with 190 ranges and 0 metadata columns\n",
      "      seqnames              ranges          strand\n",
      "         <str>           <IRanges> <ndarray[int8]>\n",
      "  [0]    chr22 19756445 - 19756735               *\n",
      "  [1]    chr22 37427967 - 37428257               *\n",
      "  [2]    chr22 22521942 - 22522232               *\n",
      "           ...                 ...             ...\n",
      "[187]    chr22 39993439 - 39993729               *\n",
      "[188]    chr22 22338004 - 22338294               *\n",
      "[189]    chr22 19131257 - 19131547               *\n",
      "------\n",
      "seqinfo(46 sequences): chr1 chr10 chr11 ... chrUn_KI270750v1 chrUn_KI270752v1 chrX\n"
     ]
    }
   ],
   "source": [
    "peaks_by_promoters = peaks_chr22.subset_by_overlaps(promoters)\n",
    "\n",
    "print(\"Peaks Overlapping with Promoters:\")\n",
    "print(peaks_by_promoters)"
   ]
  },
  {
   "cell_type": "markdown",
   "metadata": {},
   "source": [
    "### 3.4 Finding Overlaps with Exons\n",
    "\n",
    "Another analysis is to look at overlaps with all exons. This can help identify potential roles of the ChIP-seq peaks in splicing. Let's modify our analysis to look at all exons:"
   ]
  },
  {
   "cell_type": "code",
   "execution_count": 36,
   "metadata": {},
   "outputs": [
    {
     "name": "stdout",
     "output_type": "stream",
     "text": [
      "Peaks overlapping with exons:\n",
      "GenomicRanges with 279 ranges and 0 metadata columns\n",
      "      seqnames              ranges          strand\n",
      "         <str>           <IRanges> <ndarray[int8]>\n",
      "  [0]    chr22 19766788 - 19767078               *\n",
      "  [1]    chr22 17369888 - 17370178               *\n",
      "  [2]    chr22 29307104 - 29307394               *\n",
      "           ...                 ...             ...\n",
      "[276]    chr22 16969920 - 16970210               *\n",
      "[277]    chr22 35552420 - 35552710               *\n",
      "[278]    chr22 37931897 - 37932187               *\n",
      "------\n",
      "seqinfo(46 sequences): chr1 chr10 chr11 ... chrUn_KI270750v1 chrUn_KI270752v1 chrX\n",
      "Percentage of peaks overlapping with exons: 19.36%\n"
     ]
    }
   ],
   "source": [
    "# Combine all exons into a single GenomicRanges object\n",
    "all_exons = by_gene.as_granges()\n",
    "\n",
    "# Find peaks overlapping with any exon\n",
    "peaks_by_exons = peaks_chr22.subset_by_overlaps(all_exons)\n",
    "\n",
    "print(\"Peaks overlapping with exons:\")\n",
    "print(peaks_by_exons)\n",
    "\n",
    "# Calculate the percentage of peaks that overlap with exons\n",
    "percent_overlapping = (len(peaks_by_exons) / len(peaks_chr22)) * 100\n",
    "\n",
    "print(f\"Percentage of peaks overlapping with exons: {percent_overlapping:.2f}%\")"
   ]
  },
  {
   "cell_type": "markdown",
   "metadata": {},
   "source": [
    "This analysis can provide insights into whether the protein of interest (captured by the ChIP-seq: \"EZH2\") tends to bind within gene bodies, potentially influencing gene expression, splicing, or other co-transcriptional processes.\n",
    "\n",
    "## 4. Advanced Operations\n",
    "\n",
    "Let's explore some more complex operations that are often used in genomic analyses.\n",
    "\n",
    "### 4.1 Comparing Exonic vs. Intronic Binding\n",
    "\n",
    "Let's first identify intron regions. We will use the `by_gene` object we created that contains a `GenomicRangesList` split by gene."
   ]
  },
  {
   "cell_type": "code",
   "execution_count": 37,
   "metadata": {},
   "outputs": [
    {
     "name": "stdout",
     "output_type": "stream",
     "text": [
      "Intron regions:\n",
      "GenomicRanges with 1572 ranges and 0 metadata columns\n",
      "          seqnames              ranges          strand\n",
      "             <str>           <IRanges> <ndarray[int8]>\n",
      "             chr22 15282557 - 15550904               -\n",
      "             chr22 15552888 - 15553211               -\n",
      "             chr22 15553587 - 15553691               -\n",
      "               ...                 ...             ...\n",
      "    ZNRF3    chr22 28883572 - 29057489               +\n",
      "ZNRF3-AS1    chr22 29024999 - 29031477               -\n",
      "ZNRF3-IT1    chr22 28992721 - 29018621               +\n",
      "------\n",
      "seqinfo(1 sequences): chr22\n"
     ]
    }
   ],
   "source": [
    "# Create intronic regions (regions within genes but not in exons)\n",
    "gene_ranges = by_gene.range().as_genomic_ranges()  # Get the full extent of each gene\n",
    "introns = gene_ranges.subtract(all_exons).as_granges()\n",
    "\n",
    "print(\"Intron regions:\")\n",
    "print(introns)"
   ]
  },
  {
   "cell_type": "markdown",
   "metadata": {},
   "source": [
    "To gain further insight, we can compare the proportion of peaks overlapping with exons to those overlapping with introns:"
   ]
  },
  {
   "cell_type": "code",
   "execution_count": 38,
   "metadata": {},
   "outputs": [
    {
     "name": "stdout",
     "output_type": "stream",
     "text": [
      "Peaks overlapping with introns:\n",
      "GenomicRanges with 1438 ranges and 0 metadata columns\n",
      "       seqnames              ranges          strand\n",
      "          <str>           <IRanges> <ndarray[int8]>\n",
      "   [0]    chr22 19766788 - 19767078               *\n",
      "   [1]    chr22 17369888 - 17370178               *\n",
      "   [2]    chr22 19756445 - 19756735               *\n",
      "            ...                 ...             ...\n",
      "[1435]    chr22 27212058 - 27212348               *\n",
      "[1436]    chr22 49201359 - 49201649               *\n",
      "[1437]    chr22 49663362 - 49663652               *\n",
      "------\n",
      "seqinfo(46 sequences): chr1 chr10 chr11 ... chrUn_KI270750v1 chrUn_KI270752v1 chrX\n",
      "Percentage of peaks overlapping with exons: 19.36%\n",
      "Percentage of peaks overlapping with introns: 99.79%\n"
     ]
    }
   ],
   "source": [
    "# Find peaks overlapping with introns\n",
    "peaks_by_introns = peaks_chr22.subset_by_overlaps(introns)\n",
    "\n",
    "print(\"Peaks overlapping with introns:\")\n",
    "print(peaks_by_introns)\n",
    "\n",
    "# Calculate percentages\n",
    "percent_exonic = (len(peaks_by_exons) / len(peaks_chr22)) * 100\n",
    "percent_intronic = (len(peaks_by_introns) / len(peaks_chr22)) * 100\n",
    "\n",
    "print(f\"Percentage of peaks overlapping with exons: {percent_exonic:.2f}%\")\n",
    "print(f\"Percentage of peaks overlapping with introns: {percent_intronic:.2f}%\")"
   ]
  },
  {
   "cell_type": "markdown",
   "metadata": {},
   "source": [
    "```{note}\n",
    "These percentages add up to over 100% because some peaks overlap both introns and exons, depending on how wide the peaks are. Ideally, you may want to filter the peaks based on preference as you annotate them with TSS, promoters, etc.\n",
    "```\n",
    "\n",
    "This comparison can help determine if the protein of interest shows a preference for binding in exonic or intronic regions, which could suggest different functional roles (e.g., splicing regulation for exonic binding vs. potential enhancer activity for intronic binding).\n",
    "\n",
    "### 4.2 Finding Overlaps with the first exon\n",
    "\n",
    "```{note}\n",
    "- This analysis is performed by transcript.\n",
    "- The rationale for this analysis may vary, but we are mostly showcasing complex genomic operations that are possible with the package.\n",
    "```\n",
    "\n",
    "Let's first put together a `GenomicRanges` object containing the first exon for each transcript."
   ]
  },
  {
   "cell_type": "code",
   "execution_count": 39,
   "metadata": {},
   "outputs": [],
   "source": [
    "all_first = []\n",
    "for txid, grl in by_tx:\n",
    "    strand = grl.get_strand(as_type = \"list\")[0]\n",
    "    if strand == \"-\":\n",
    "        all_first.append(grl.sort()[-1])\n",
    "    else:\n",
    "        all_first.append(grl.sort()[0])"
   ]
  },
  {
   "cell_type": "markdown",
   "metadata": {},
   "source": [
    "Then we combine all the individual genomic elements. The [biocutils](https://github.com/BiocPy/BiocUtils) package provides utilities for convenient aspects of R that aren't provided by base Python and generics. One of these generics is the `'combine'` operation that merges or concatenates various Bioconductor classes."
   ]
  },
  {
   "cell_type": "code",
   "execution_count": 40,
   "metadata": {},
   "outputs": [],
   "source": [
    "from biocutils import combine_sequences\n",
    "first_exons = combine_sequences(*all_first)"
   ]
  },
  {
   "cell_type": "markdown",
   "metadata": {},
   "source": [
    "We can now subset peaks that overlap with the first exon"
   ]
  },
  {
   "cell_type": "code",
   "execution_count": 41,
   "metadata": {},
   "outputs": [
    {
     "name": "stdout",
     "output_type": "stream",
     "text": [
      "GenomicRanges with 153 ranges and 0 metadata columns\n",
      "      seqnames              ranges          strand\n",
      "         <str>           <IRanges> <ndarray[int8]>\n",
      "  [0]    chr22 17369888 - 17370178               *\n",
      "  [1]    chr22 19756445 - 19756735               *\n",
      "  [2]    chr22 45975507 - 45975797               *\n",
      "           ...                 ...             ...\n",
      "[150]    chr22 49500975 - 49501265               *\n",
      "[151]    chr22 19131257 - 19131547               *\n",
      "[152]    chr22 29307104 - 29307394               *\n",
      "------\n",
      "seqinfo(46 sequences): chr1 chr10 chr11 ... chrUn_KI270750v1 chrUn_KI270752v1 chrX\n"
     ]
    }
   ],
   "source": [
    "peaks_with_first_exons = peaks_chr22.subset_by_overlaps(first_exons)\n",
    "print(peaks_with_first_exons)"
   ]
  },
  {
   "cell_type": "markdown",
   "metadata": {},
   "source": [
    "### 4.3 Resizing and Shifting Peaks"
   ]
  },
  {
   "cell_type": "code",
   "execution_count": 42,
   "metadata": {},
   "outputs": [
    {
     "name": "stdout",
     "output_type": "stream",
     "text": [
      "Narrowed and Shifted Peaks:\n",
      "GenomicRanges with 1441 ranges and 0 metadata columns\n",
      "       seqnames              ranges          strand\n",
      "          <str>           <IRanges> <ndarray[int8]>\n",
      "   [0]    chr22 19766807 - 19766907               *\n",
      "   [1]    chr22 17369907 - 17370007               *\n",
      "   [2]    chr22 19756464 - 19756564               *\n",
      "            ...                 ...             ...\n",
      "[1438]    chr22 27212077 - 27212177               *\n",
      "[1439]    chr22 49201378 - 49201478               *\n",
      "[1440]    chr22 49663381 - 49663481               *\n",
      "------\n",
      "seqinfo(46 sequences): chr1 chr10 chr11 ... chrUn_KI270750v1 chrUn_KI270752v1 chrX\n"
     ]
    }
   ],
   "source": [
    "narrow_peaks = peaks_chr22.narrow(start=10, width=100)\n",
    "shifted_peaks = narrow_peaks.shift(10)\n",
    "\n",
    "print(\"Narrowed and Shifted Peaks:\")\n",
    "print(shifted_peaks)"
   ]
  },
  {
   "cell_type": "markdown",
   "metadata": {},
   "source": [
    "Resizing and shifting genomic ranges can be useful in various contexts. For example:\n",
    "\n",
    "- Narrowing peaks might help focus on the center of ChIP-seq binding sites.\n",
    "- Shifting ranges can be used to look at regions adjacent to your features of interest. e.g. defining the predicted CRISPR cleavage site based on the position of the CRISPR gRNA sequence.\n",
    "\n",
    "These operations demonstrate the flexibility of genomic range manipulations, which can be useful for fine-tuning analyses or testing hypotheses about the spatial relationships between genomic features.\n",
    "\n",
    "## 5. Exercises\n",
    "\n",
    "1. Calculate the average width of the ChIP-seq peaks on chromosome 22.\n",
    "2. Determine how many peaks overlap with CpG islands.\n",
    "3. Compute the percentage of promoter regions that have at least one overlapping ChIP-seq peak.\n",
    "\n",
    "## Conclusion\n",
    "\n",
    "In this tutorial, we've explored how to use BiocPy's genomic ranges functionality to perform various genomic analyses. These tools and techniques provide a powerful way to work with genomic interval data in Python, mirroring the capabilities from Bioconductor. They form the foundation for many more complex genomic analyses and can be applied to a wide range of biological questions.\n",
    "\n",
    "```{note}\n",
    "Refer to the [BiocPy documentation](https://biocpy.github.io/) for more detailed information on these packages and their functionalities.\n",
    "```"
   ]
  }
 ],
 "metadata": {
  "kernelspec": {
   "display_name": "Python 3 (ipykernel)",
   "language": "python",
   "name": "python3"
  },
  "language_info": {
   "codemirror_mode": {
    "name": "ipython",
    "version": 3
   },
   "file_extension": ".py",
   "mimetype": "text/x-python",
   "name": "python",
   "nbconvert_exporter": "python",
   "pygments_lexer": "ipython3",
   "version": "3.10.14"
  }
 },
 "nbformat": 4,
 "nbformat_minor": 4
}
