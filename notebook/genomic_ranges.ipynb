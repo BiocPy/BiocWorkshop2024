{
 "cells": [
  {
   "cell_type": "markdown",
   "metadata": {},
   "source": [
    "# Tutorial 1: `GenomicRanges` and range-based analyses\n",
    "\n",
    "Genomic range operations are fundamental to many bioinformatics analyses. They allow us to work with intervals of genomic coordinates, which is crucial for understanding the relationships between different genomic features such as genes, regulatory elements, and experimental data like ChIP-seq peaks. In this tutorial, we'll explore how to work with genomic interval data using BiocPy's [GenomicRanges](https://github.com/BiocPy/GenomicRanges/) package, which provides a Python implementation of the R/Bioconductor [GenomicRanges package](https://github.com/Bioconductor/GenomicRanges).\n",
    "\n",
    "## Outline\n",
    "\n",
    "In this workshop, we'll walk through several aspects of working with genomic ranges in Python:\n",
    "\n",
    "1. **Reading genomic data**: we'll start by reading in genomic data from RDS files, including exon positions grouped by transcripts.\n",
    "2. **Basic genomic operations**: we'll cover fundamental operations like finding transcription start sites (TSS) and promoter regions.\n",
    "3. **Overlap analysis**: we'll learn how to find overlaps between different genomic features, a common task in many analyses.\n",
    "4. **Advanced operations**: we'll explore more complex operations like finding peaks within specific regions and resizing genomic intervals.\n",
    "\n",
    "## Prerequisites\n",
    "\n",
    "Before we begin, please ensure that you have the following prerequisites installed:\n",
    "\n",
    "- Python 3.8 or later with dependencies listed [here](https://github.com/BiocPy/BiocWorkshop2024/blob/master/requirements.txt).\n",
    "- R 4.4.0 and Bioconductor packages listed [here](https://github.com/BiocPy/BiocWorkshop2024/blob/master/rpackages.R).\n",
    "\n",
    "\n",
    "Install the Python packages using pip:"
   ]
  },
  {
   "cell_type": "markdown",
   "metadata": {},
   "source": [
    "!pip install -U biocutils genomicranges rds2py numpy pandas geniml"
   ]
  },
  {
   "cell_type": "markdown",
   "metadata": {},
   "source": [
    "Install the R packages using `BiocManager`:\n",
    "\n",
    "```r\n",
    "BiocManager::install(c(\"AnnotationHub\"))\n",
    "```\n",
    "\n",
    "## 1. Download reference annotation\n",
    "\n",
    "Insead of reinventing the wheel to access references in Python, we'll use existing available Bioconductor resources that provide access to genome annotations. `AnnotationHub` is a great resource providing access to genomic reference annotations. It's super convenient to search for a reference from `AnnotationHub` and download the genome of interest.\n",
    "\n",
    "Let's search the latest ensembl database for the human reference genome using Bioconductor's `AnnotationHub`. \n",
    "\n",
    "```r\n",
    "suppressMessages(library(AnnotationHub))\n",
    "\n",
    "ah <- AnnotationHub()\n",
    "ensdb <- query(ah, \"Ensembl 112 EnsDb for Homo sapiens\")[[1]]\n",
    "```\n",
    "\n",
    "We will then extract the exon positions and group them by transcript. Additionally, we provide a list of column names we would like to be available in `mcols` for our analysis. For the purpose of this tutorial, we'll limit ourselves to the exons from chromosome 22.\n",
    "\n",
    "```r\n",
    "exons_by_tx <- exonsBy(ensdb, \n",
    "    by = \"tx\", filter = SeqNameFilter(c(\"22\")), \n",
    "    columns= c(\"exon_id\", \"tx_name\", \"tx_id\", \"gene_name\", \"gene_id\"))\n",
    "```\n",
    "\n",
    "Finally, save the object as an RDS file.\n",
    "\n",
    "```r\n",
    "saveRDS(exons_by_tx, \"hg38_exons_by_tx.rds\")\n",
    "```"
   ]
  },
  {
   "cell_type": "markdown",
   "metadata": {},
   "source": [
    "If you are using Google Colab, you may not have access to the RDS file used, in this tutorial. Change the block below from markdown to code and run the chunk."
   ]
  },
  {
   "cell_type": "markdown",
   "metadata": {},
   "source": [
    "!wget https://raw.githubusercontent.com/BiocPy/BiocWorkshop2024/master/notebook/hg38_exons_by_tx.rds"
   ]
  },
  {
   "cell_type": "markdown",
   "metadata": {},
   "source": [
    "## 2. Load genome annotation in Python\n",
    "\n",
    "We now read the above RDS annotation object into our Python session using the [rds2py](https://github.com/biocpy/rds2py) Python package. This is a two step process. \n",
    "\n",
    "The first step represents the data stored in the RDS file as a python dictionary "
   ]
  },
  {
   "cell_type": "code",
   "execution_count": 1,
   "metadata": {},
   "outputs": [
    {
     "name": "stdout",
     "output_type": "stream",
     "text": [
      "Keys of the object: dict_keys(['data', 'package_name', 'class_name', 'attributes'])\n",
      "Class name of the object: CompressedGRangesList\n"
     ]
    }
   ],
   "source": [
    "from rds2py import read_rds\n",
    "hg38_robject = read_rds(\"./hg38_exons_by_tx.rds\")\n",
    "\n",
    "# Only printing the keys\n",
    "print(\"Keys of the object:\", hg38_robject.keys())\n",
    "print(\"Class name of the object:\", hg38_robject[\"class_name\"])"
   ]
  },
  {
   "cell_type": "markdown",
   "metadata": {},
   "source": [
    "This object (`hg38_robject`) can then be coerced into a Python `GenomicRangesList` class."
   ]
  },
  {
   "cell_type": "code",
   "execution_count": 2,
   "metadata": {},
   "outputs": [
    {
     "name": "stdout",
     "output_type": "stream",
     "text": [
      "Exons by transcript:\n",
      "GenomicRangesList with 5387 ranges and 0 metadata columns\n",
      " \n",
      "Name: ENST00000006251 \n",
      "GenomicRanges with 9 ranges and 6 metadata columns\n",
      "    seqnames              ranges          strand           exon_id         tx_name           tx_id gene_name         gene_id exon_rank\n",
      "       <str>           <IRanges> <ndarray[int8]>            <list>          <list>          <list>    <list>          <list>    <list>\n",
      "[0]    chr22 44677057 - 44677241               + | ENSE00001838743 ENST00000006251 ENST00000006251      PRR5 ENSG00000186654         1\n",
      "[1]    chr22 44702492 - 44702609               + | ENSE00003647870 ENST00000006251 ENST00000006251      PRR5 ENSG00000186654         2\n",
      "[2]    chr22 44714591 - 44714672               + | ENSE00003614159 ENST00000006251 ENST00000006251      PRR5 ENSG00000186654         3\n",
      "[3]    chr22 44725244 - 44725293               + | ENSE00003568825 ENST00000006251 ENST00000006251      PRR5 ENSG00000186654         4\n",
      "[4]    chr22 44726577 - 44726635               + | ENSE00003465556 ENST00000006251 ENST00000006251      PRR5 ENSG00000186654         5\n",
      "[5]    chr22 44731730 - 44731822               + | ENSE00003642381 ENST00000006251 ENST00000006251      PRR5 ENSG00000186654         6\n",
      "[6]    chr22 44732251 - 44732392               + | ENSE00003658491 ENST00000006251 ENST00000006251      PRR5 ENSG00000186654         7\n",
      "[7]    chr22 44735027 - 44735163               + | ENSE00003692865 ENST00000006251 ENST00000006251      PRR5 ENSG00000186654         8\n",
      "[8]    chr22 44736772 - 44737681               + | ENSE00001846334 ENST00000006251 ENST00000006251      PRR5 ENSG00000186654         9\n",
      "------\n",
      "seqinfo(1 sequences): chr22\n",
      " \n",
      "Name: ENST00000008876 \n",
      "GenomicRanges with 10 ranges and 6 metadata columns\n",
      "    seqnames              ranges          strand           exon_id         tx_name           tx_id gene_name         gene_id exon_rank\n",
      "       <str>           <IRanges> <ndarray[int8]>            <list>          <list>          <list>    <list>          <list>    <list>\n",
      "[0]    chr22 50603133 - 50603499               + | ENSE00003608148 ENST00000008876 ENST00000008876  MAPK8IP2 ENSG00000008735         1\n",
      "[1]    chr22 50603626 - 50603720               + | ENSE00003768317 ENST00000008876 ENST00000008876  MAPK8IP2 ENSG00000008735         2\n",
      "[2]    chr22 50603841 - 50605065               + | ENSE00003772801 ENST00000008876 ENST00000008876  MAPK8IP2 ENSG00000008735         3\n",
      "[3]    chr22 50605368 - 50605444               + | ENSE00003773674 ENST00000008876 ENST00000008876  MAPK8IP2 ENSG00000008735         4\n",
      "[4]    chr22 50605562 - 50605735               + | ENSE00003765641 ENST00000008876 ENST00000008876  MAPK8IP2 ENSG00000008735         5\n",
      "[5]    chr22 50605825 - 50605935               + | ENSE00003763622 ENST00000008876 ENST00000008876  MAPK8IP2 ENSG00000008735         6\n",
      "[6]    chr22 50606658 - 50606766               + | ENSE00003773228 ENST00000008876 ENST00000008876  MAPK8IP2 ENSG00000008735         7\n",
      "[7]    chr22 50606921 - 50606992               + | ENSE00003769486 ENST00000008876 ENST00000008876  MAPK8IP2 ENSG00000008735         8\n",
      "[8]    chr22 50610212 - 50610311               + | ENSE00003772161 ENST00000008876 ENST00000008876  MAPK8IP2 ENSG00000008735         9\n",
      "[9]    chr22 50610707 - 50613982               + | ENSE00003731955 ENST00000008876 ENST00000008876  MAPK8IP2 ENSG00000008735        10\n",
      "------\n",
      "seqinfo(1 sequences): chr22\n",
      " \n",
      "Name: ENST00000043402 \n",
      "GenomicRanges with 2 ranges and 6 metadata columns\n",
      "    seqnames              ranges          strand           exon_id         tx_name           tx_id gene_name         gene_id exon_rank\n",
      "       <str>           <IRanges> <ndarray[int8]>            <list>          <list>          <list>    <list>          <list>    <list>\n",
      "[0]    chr22 20268071 - 20268319               - | ENSE00001358408 ENST00000043402 ENST00000043402     RTN4R ENSG00000040608         1\n",
      "[1]    chr22 20241415 - 20243111               - | ENSE00001557601 ENST00000043402 ENST00000043402     RTN4R ENSG00000040608         2\n",
      "------\n",
      "seqinfo(1 sequences): chr22\n",
      " \n",
      "Name:  \n",
      "GenomicRanges with 15 ranges and 6 metadata columns\n",
      "     seqnames              ranges          strand        exon_id   tx_name     tx_id gene_name gene_id exon_rank\n",
      "        <str>           <IRanges> <ndarray[int8]>         <list>    <list>    <list>    <list>  <list>    <list>\n",
      " [0]    chr22 33919995 - 33920477               - |  LRG_856t1e1 LRG_856t2 LRG_856t2    LARGE1 LRG_856         1\n",
      " [1]    chr22 33761371 - 33761559               - |  LRG_856t1e3 LRG_856t2 LRG_856t2    LARGE1 LRG_856         2\n",
      " [2]    chr22 33650367 - 33650669               - |  LRG_856t1e4 LRG_856t2 LRG_856t2    LARGE1 LRG_856         3\n",
      "          ...                 ...             ... |          ...       ...       ...       ...     ...       ...\n",
      "[12]    chr22 33283202 - 33283349               - | LRG_856t1e14 LRG_856t2 LRG_856t2    LARGE1 LRG_856        13\n",
      "[13]    chr22 33277060 - 33277256               - | LRG_856t1e15 LRG_856t2 LRG_856t2    LARGE1 LRG_856        14\n",
      "[14]    chr22 33272509 - 33274625               - | LRG_856t1e16 LRG_856t2 LRG_856t2    LARGE1 LRG_856        15\n",
      "------\n",
      "seqinfo(1 sequences): chr22\n",
      " \n",
      "Name: LRG_856t2 \n",
      "GenomicRanges with 7 ranges and 6 metadata columns\n",
      "    seqnames              ranges          strand      exon_id  tx_name    tx_id gene_name gene_id exon_rank\n",
      "       <str>           <IRanges> <ndarray[int8]>       <list>   <list>   <list>    <list>  <list>    <list>\n",
      "[0]    chr22 37244114 - 37244266               - | LRG_97t1e1 LRG_97t1 LRG_97t1      RAC2  LRG_97         1\n",
      "[1]    chr22 37241587 - 37241659               - | LRG_97t1e2 LRG_97t1 LRG_97t1      RAC2  LRG_97         2\n",
      "[2]    chr22 37232801 - 37232919               - | LRG_97t1e3 LRG_97t1 LRG_97t1      RAC2  LRG_97         3\n",
      "[3]    chr22 37231932 - 37231995               - | LRG_97t1e4 LRG_97t1 LRG_97t1      RAC2  LRG_97         4\n",
      "[4]    chr22 37231231 - 37231391               - | LRG_97t1e5 LRG_97t1 LRG_97t1      RAC2  LRG_97         5\n",
      "[5]    chr22 37226671 - 37226804               - | LRG_97t1e6 LRG_97t1 LRG_97t1      RAC2  LRG_97         6\n",
      "[6]    chr22 37225270 - 37226040               - | LRG_97t1e7 LRG_97t1 LRG_97t1      RAC2  LRG_97         7\n",
      "------\n",
      "seqinfo(1 sequences): chr22\n",
      " \n",
      "Name: LRG_97t1 \n",
      "GenomicRanges with 21 ranges and 6 metadata columns\n",
      "     seqnames              ranges          strand        exon_id   tx_name     tx_id gene_name gene_id exon_rank\n",
      "        <str>           <IRanges> <ndarray[int8]>         <list>    <list>    <list>    <list>  <list>    <list>\n",
      " [0]    chr22 20982297 - 20982572               + |  LRG_989t1e1 LRG_989t1 LRG_989t1     LZTR1 LRG_989         1\n",
      " [1]    chr22 20983027 - 20983090               + |  LRG_989t1e2 LRG_989t1 LRG_989t1     LZTR1 LRG_989         2\n",
      " [2]    chr22 20985841 - 20985898               + |  LRG_989t1e3 LRG_989t1 LRG_989t1     LZTR1 LRG_989         3\n",
      "          ...                 ...             ... |          ...       ...       ...       ...     ...       ...\n",
      "[18]    chr22 20996696 - 20996802               + | LRG_989t1e19 LRG_989t1 LRG_989t1     LZTR1 LRG_989        19\n",
      "[19]    chr22 20996886 - 20996967               + | LRG_989t1e20 LRG_989t1 LRG_989t1     LZTR1 LRG_989        20\n",
      "[20]    chr22 20997232 - 20999033               + | LRG_989t1e21 LRG_989t1 LRG_989t1     LZTR1 LRG_989        21\n",
      "------\n",
      "seqinfo(1 sequences): chr22\n",
      " \n",
      "\n"
     ]
    }
   ],
   "source": [
    "from rds2py import read_rds\n",
    "hg38_robject = read_rds(\"./hg38_exons_by_tx.rds\")\n",
    "\n",
    "# TODO: split this into two\n",
    "from rds2py.granges import as_granges_list\n",
    "by_tx = as_granges_list(hg38_robject)\n",
    "\n",
    "print(\"Exons by transcript:\")\n",
    "print(by_tx)"
   ]
  },
  {
   "cell_type": "markdown",
   "metadata": {},
   "source": [
    "```{note}\n",
    "Currently this is a two step process, we are working on simplifying this to a one step process for supported Bioconductor classes.\n",
    "```\n",
    "\n",
    "## 3. Define promoters and TSS\n",
    "\n",
    "Now, let's perform some basic operations like finding transcription start sites (TSS) and promoter regions. These operations help us identify key regulatory regions of the genome.\n",
    "\n",
    "### 3.1 Find transcription start sites (TSS)\n",
    "\n",
    "Transcription Start Sites (TSS) are the locations where transcription of a gene begins. Identifying TSS is crucial for understanding gene regulation, as many regulatory elements are located near the TSS. \n",
    "\n",
    "First, we use the `range()` method to get the full extent of each transcript. This should give us exactly one range per transcript."
   ]
  },
  {
   "cell_type": "code",
   "execution_count": 3,
   "metadata": {},
   "outputs": [
    {
     "name": "stdout",
     "output_type": "stream",
     "text": [
      "Transcript ranges:\n",
      "GenomicRangesList with 5387 ranges and 0 metadata columns\n",
      " \n",
      "Name: ENST00000006251 \n",
      "GenomicRanges with 1 range and 0 metadata columns\n",
      "    seqnames              ranges          strand\n",
      "       <str>           <IRanges> <ndarray[int8]>\n",
      "[0]    chr22 44677057 - 44737681               +\n",
      "------\n",
      "seqinfo(1 sequences): chr22\n",
      " \n",
      "Name: ENST00000008876 \n",
      "GenomicRanges with 1 range and 0 metadata columns\n",
      "    seqnames              ranges          strand\n",
      "       <str>           <IRanges> <ndarray[int8]>\n",
      "[0]    chr22 50603133 - 50613982               +\n",
      "------\n",
      "seqinfo(1 sequences): chr22\n",
      " \n",
      "Name: ENST00000043402 \n",
      "GenomicRanges with 1 range and 0 metadata columns\n",
      "    seqnames              ranges          strand\n",
      "       <str>           <IRanges> <ndarray[int8]>\n",
      "[0]    chr22 20241415 - 20268319               -\n",
      "------\n",
      "seqinfo(1 sequences): chr22\n",
      " \n",
      "Name:  \n",
      "GenomicRanges with 1 range and 0 metadata columns\n",
      "    seqnames              ranges          strand\n",
      "       <str>           <IRanges> <ndarray[int8]>\n",
      "[0]    chr22 33272509 - 33920477               -\n",
      "------\n",
      "seqinfo(1 sequences): chr22\n",
      " \n",
      "Name: LRG_856t2 \n",
      "GenomicRanges with 1 range and 0 metadata columns\n",
      "    seqnames              ranges          strand\n",
      "       <str>           <IRanges> <ndarray[int8]>\n",
      "[0]    chr22 37225270 - 37244266               -\n",
      "------\n",
      "seqinfo(1 sequences): chr22\n",
      " \n",
      "Name: LRG_97t1 \n",
      "GenomicRanges with 1 range and 0 metadata columns\n",
      "    seqnames              ranges          strand\n",
      "       <str>           <IRanges> <ndarray[int8]>\n",
      "[0]    chr22 20982297 - 20999033               +\n",
      "------\n",
      "seqinfo(1 sequences): chr22\n",
      " \n",
      "\n"
     ]
    }
   ],
   "source": [
    "ranges_by_tx = by_tx.range()\n",
    "\n",
    "print(\"Transcript ranges:\")\n",
    "print(ranges_by_tx)"
   ]
  },
  {
   "cell_type": "markdown",
   "metadata": {},
   "source": [
    "Since the range gives us exactly one range per transcript, so we can simplify our list to a `GenomicRanges` object. This is similar to `unlist` in R."
   ]
  },
  {
   "cell_type": "code",
   "execution_count": 4,
   "metadata": {},
   "outputs": [
    {
     "name": "stdout",
     "output_type": "stream",
     "text": [
      "as GenomicRanges:\n",
      "GenomicRanges with 5387 ranges and 0 metadata columns\n",
      "                seqnames              ranges          strand\n",
      "                   <str>           <IRanges> <ndarray[int8]>\n",
      "ENST00000006251    chr22 44677057 - 44737681               +\n",
      "ENST00000008876    chr22 50603133 - 50613982               +\n",
      "ENST00000043402    chr22 20241415 - 20268319               -\n",
      "                     ...                 ...             ...\n",
      "      LRG_856t2    chr22 33272509 - 33920477               -\n",
      "       LRG_97t1    chr22 37225270 - 37244266               -\n",
      "      LRG_989t1    chr22 20982297 - 20999033               +\n",
      "------\n",
      "seqinfo(1 sequences): chr22\n"
     ]
    }
   ],
   "source": [
    "gr_by_tx = ranges_by_tx.as_genomic_ranges()\n",
    "\n",
    "print(\"as GenomicRanges:\")\n",
    "print(gr_by_tx)"
   ]
  },
  {
   "cell_type": "markdown",
   "metadata": {},
   "source": [
    "Then we resize to a width of 1 base pair at the start of each range to pinpoint the TSS."
   ]
  },
  {
   "cell_type": "code",
   "execution_count": 5,
   "metadata": {},
   "outputs": [
    {
     "name": "stdout",
     "output_type": "stream",
     "text": [
      "Transcript Start Sites:\n",
      "GenomicRanges with 5387 ranges and 0 metadata columns\n",
      "                seqnames              ranges          strand\n",
      "                   <str>           <IRanges> <ndarray[int8]>\n",
      "ENST00000006251    chr22 44677057 - 44677058               +\n",
      "ENST00000008876    chr22 50603133 - 50603134               +\n",
      "ENST00000043402    chr22 20268318 - 20268319               -\n",
      "                     ...                 ...             ...\n",
      "      LRG_856t2    chr22 33920476 - 33920477               -\n",
      "       LRG_97t1    chr22 37244265 - 37244266               -\n",
      "      LRG_989t1    chr22 20982297 - 20982298               +\n",
      "------\n",
      "seqinfo(1 sequences): chr22\n"
     ]
    }
   ],
   "source": [
    "tss = gr_by_tx.resize(width=1, fix=\"start\")\n",
    "\n",
    "print(\"Transcript Start Sites:\")\n",
    "print(tss)"
   ]
  },
  {
   "cell_type": "markdown",
   "metadata": {},
   "source": [
    "### 3.2 Define promoter regions\n",
    "\n",
    "Here, we're defining promoters as the region 2000 base pairs upstream to 200 base pairs downstream of each TSS. This definition can vary depending on the specific analysis, but this range often captures important regulatory elements."
   ]
  },
  {
   "cell_type": "code",
   "execution_count": 6,
   "metadata": {},
   "outputs": [
    {
     "name": "stdout",
     "output_type": "stream",
     "text": [
      "Promoter Regions:\n",
      "GenomicRanges with 5387 ranges and 0 metadata columns\n",
      "                seqnames              ranges          strand\n",
      "                   <str>           <IRanges> <ndarray[int8]>\n",
      "ENST00000006251    chr22 44675057 - 44677257               +\n",
      "ENST00000008876    chr22 50601133 - 50603333               +\n",
      "ENST00000043402    chr22 20268119 - 20270319               -\n",
      "                     ...                 ...             ...\n",
      "      LRG_856t2    chr22 33920277 - 33922477               -\n",
      "       LRG_97t1    chr22 37244066 - 37246266               -\n",
      "      LRG_989t1    chr22 20980297 - 20982497               +\n",
      "------\n",
      "seqinfo(1 sequences): chr22\n"
     ]
    }
   ],
   "source": [
    "promoters = tss.promoters(upstream=2000, downstream=200)\n",
    "\n",
    "print(\"Promoter Regions:\")\n",
    "print(promoters)"
   ]
  },
  {
   "cell_type": "markdown",
   "metadata": {},
   "source": [
    "## 4. Overlap with ChIP-seq peaks\n",
    "\n",
    "A common task in genomic analysis is finding overlaps between different genomic features. This helps us understand the relationships between various elements in the genome and can provide insights into gene regulation and function.\n",
    "\n",
    "### 4.1 Load ChIP-seq peaks\n",
    "\n",
    "ChIP-seq (Chromatin Immunoprecipitation followed by sequencing) is a method used to identify binding sites of DNA-associated proteins. The peaks represent regions where a protein of interest is likely bound to the DNA. \n",
    "\n",
    "For the purpose of this tutorial, let's download a bed file containing peaks from a ChIP-seq experiment on human B cells to identify EZH2 binding sites (from ENCODE) and catalogued in [bedbase.org](https://bedbase.org/bed/be4054acf6e3feeb4dc490e6430e358e). "
   ]
  },
  {
   "cell_type": "code",
   "execution_count": 7,
   "metadata": {},
   "outputs": [],
   "source": [
    "from geniml.bbclient import BBClient\n",
    "\n",
    "bbclient = BBClient(cache_folder=\"cache\", bedbase_api=\"https://api.bedbase.org\")\n",
    "bedfile_id = \"be4054acf6e3feeb4dc490e6430e358e\" \n",
    "bedfile = bbclient.load_bed(bedfile_id)"
   ]
  },
  {
   "cell_type": "markdown",
   "metadata": {},
   "source": [
    "Our friends at bedbase (Nathan Sheffield et al.) provide methods to easily coerce these objects to `GenomicRanges`. Again, we're focusing on chromosome 22 for this example to keep the dataset manageable."
   ]
  },
  {
   "cell_type": "code",
   "execution_count": 8,
   "metadata": {},
   "outputs": [
    {
     "name": "stdout",
     "output_type": "stream",
     "text": [
      "GenomicRanges with 1441 ranges and 0 metadata columns\n",
      "       seqnames              ranges          strand\n",
      "          <str>           <IRanges> <ndarray[int8]>\n",
      "   [0]    chr22 19766788 - 19767078               *\n",
      "   [1]    chr22 17369888 - 17370178               *\n",
      "   [2]    chr22 19756445 - 19756735               *\n",
      "            ...                 ...             ...\n",
      "[1438]    chr22 27212058 - 27212348               *\n",
      "[1439]    chr22 49201359 - 49201649               *\n",
      "[1440]    chr22 49663362 - 49663652               *\n",
      "------\n",
      "seqinfo(46 sequences): chr1 chr10 chr11 ... chrUn_KI270750v1 chrUn_KI270752v1 chrX\n"
     ]
    }
   ],
   "source": [
    "peaks = bedfile.to_granges()\n",
    "\n",
    "filter_chr22 = [x == \"chr22\" for x in peaks.get_seqnames()]\n",
    "peaks_chr22 = peaks[filter_chr22]\n",
    "\n",
    "print(peaks_chr22)"
   ]
  },
  {
   "cell_type": "markdown",
   "metadata": {},
   "source": [
    "### 4.2 Find overlaps with TSS\n",
    "\n",
    "Here, we're identifying ChIP-seq peaks that overlap with TSS. This analysis can help us understand if the protein of interest tends to bind near the start of genes, which could suggest a role in transcription initiation."
   ]
  },
  {
   "cell_type": "code",
   "execution_count": 9,
   "metadata": {},
   "outputs": [
    {
     "name": "stdout",
     "output_type": "stream",
     "text": [
      "Peak indices that overlap with TSS between 30-40:\n",
      "[[], [], [], [], [], [], [], [], [1157], []]\n"
     ]
    }
   ],
   "source": [
    "overlaps = peaks_chr22.find_overlaps(tss)\n",
    "\n",
    "print(\"Peak indices that overlap with TSS between 30-40:\")\n",
    "print(overlaps[30:40])"
   ]
  },
  {
   "cell_type": "markdown",
   "metadata": {},
   "source": [
    "```{note}\n",
    "`find_overlaps` returns a `list` with the same length as TSS, indicating which indices from peaks overlap with each of the TSS. Ideally, we would want to return a `Hits` object similar to the Bioconductor implementation.\n",
    "\n",
    "**TODO: Future plans to convert this into a `Hits` object.**\n",
    "```\n",
    "\n",
    "Let's identify the peaks that overlap with any TSS."
   ]
  },
  {
   "cell_type": "code",
   "execution_count": 10,
   "metadata": {},
   "outputs": [
    {
     "name": "stdout",
     "output_type": "stream",
     "text": [
      "GenomicRanges with 75 ranges and 0 metadata columns\n",
      "     seqnames              ranges          strand\n",
      "        <str>           <IRanges> <ndarray[int8]>\n",
      " [0]    chr22 19756445 - 19756735               *\n",
      " [1]    chr22 36816145 - 36816435               *\n",
      " [2]    chr22 38467935 - 38468225               *\n",
      "          ...                 ...             ...\n",
      "[72]    chr22 50270553 - 50270843               *\n",
      "[73]    chr22 19131257 - 19131547               *\n",
      "[74]    chr22 19014170 - 19014460               *\n",
      "------\n",
      "seqinfo(46 sequences): chr1 chr10 chr11 ... chrUn_KI270750v1 chrUn_KI270752v1 chrX\n"
     ]
    }
   ],
   "source": [
    "import itertools\n",
    "\n",
    "all_indices = list(set(itertools.chain.from_iterable(overlaps)))\n",
    "peaks_by_tss = peaks_chr22[all_indices]\n",
    "print(peaks_by_tss)"
   ]
  },
  {
   "cell_type": "markdown",
   "metadata": {},
   "source": [
    "Alternatively, we can use `subset_by_overlaps` method to more conveniently overlap the peaks that overlap with any TSS:"
   ]
  },
  {
   "cell_type": "code",
   "execution_count": 11,
   "metadata": {},
   "outputs": [
    {
     "name": "stdout",
     "output_type": "stream",
     "text": [
      "GenomicRanges with 75 ranges and 0 metadata columns\n",
      "     seqnames              ranges          strand\n",
      "        <str>           <IRanges> <ndarray[int8]>\n",
      " [0]    chr22 19756445 - 19756735               *\n",
      " [1]    chr22 36816145 - 36816435               *\n",
      " [2]    chr22 38467935 - 38468225               *\n",
      "          ...                 ...             ...\n",
      "[72]    chr22 50270553 - 50270843               *\n",
      "[73]    chr22 19131257 - 19131547               *\n",
      "[74]    chr22 19014170 - 19014460               *\n",
      "------\n",
      "seqinfo(46 sequences): chr1 chr10 chr11 ... chrUn_KI270750v1 chrUn_KI270752v1 chrX\n"
     ]
    }
   ],
   "source": [
    "peaks_by_tss2 = peaks_chr22.subset_by_overlaps(tss)\n",
    "print(peaks_by_tss2)"
   ]
  },
  {
   "cell_type": "markdown",
   "metadata": {},
   "source": [
    "### 4.3 Find overlaps with promoters\n",
    "\n",
    "This operation finds ChIP-seq peaks that overlap with our defined promoter regions. If a significant number of peaks fall within promoters, it might suggest that the protein plays a role in gene regulation."
   ]
  },
  {
   "cell_type": "code",
   "execution_count": 12,
   "metadata": {},
   "outputs": [
    {
     "name": "stdout",
     "output_type": "stream",
     "text": [
      "Peaks Overlapping with Promoters:\n",
      "GenomicRanges with 344 ranges and 0 metadata columns\n",
      "      seqnames              ranges          strand\n",
      "         <str>           <IRanges> <ndarray[int8]>\n",
      "  [0]    chr22 19756445 - 19756735               *\n",
      "  [1]    chr22 37427967 - 37428257               *\n",
      "  [2]    chr22 19169462 - 19169752               *\n",
      "           ...                 ...             ...\n",
      "[341]    chr22 42368884 - 42369174               *\n",
      "[342]    chr22 21630789 - 21631079               *\n",
      "[343]    chr22 17368148 - 17368438               *\n",
      "------\n",
      "seqinfo(46 sequences): chr1 chr10 chr11 ... chrUn_KI270750v1 chrUn_KI270752v1 chrX\n"
     ]
    }
   ],
   "source": [
    "peaks_by_promoters = peaks_chr22.subset_by_overlaps(promoters)\n",
    "\n",
    "print(\"Peaks Overlapping with Promoters:\")\n",
    "print(peaks_by_promoters)"
   ]
  },
  {
   "cell_type": "markdown",
   "metadata": {},
   "source": [
    "### 4.4 Find overlaps with exons\n",
    "\n",
    "Lets find overlaps with any exon. We `unlist` our `GenomicRangesList` object to get all exon positions."
   ]
  },
  {
   "cell_type": "code",
   "execution_count": 13,
   "metadata": {},
   "outputs": [
    {
     "name": "stdout",
     "output_type": "stream",
     "text": [
      "All exons:\n",
      "GenomicRanges with 34967 ranges and 6 metadata columns\n",
      "                seqnames              ranges          strand           exon_id         tx_name           tx_id gene_name         gene_id exon_rank\n",
      "                   <str>           <IRanges> <ndarray[int8]>            <list>          <list>          <list>    <list>          <list>    <list>\n",
      "ENST00000006251    chr22 44677057 - 44677241               + | ENSE00001838743 ENST00000006251 ENST00000006251      PRR5 ENSG00000186654         1\n",
      "ENST00000006251    chr22 44702492 - 44702609               + | ENSE00003647870 ENST00000006251 ENST00000006251      PRR5 ENSG00000186654         2\n",
      "ENST00000006251    chr22 44714591 - 44714672               + | ENSE00003614159 ENST00000006251 ENST00000006251      PRR5 ENSG00000186654         3\n",
      "                     ...                 ...             ... |             ...             ...             ...       ...             ...       ...\n",
      "      LRG_989t1    chr22 20996696 - 20996802               + |    LRG_989t1e19       LRG_989t1       LRG_989t1     LZTR1         LRG_989        19\n",
      "      LRG_989t1    chr22 20996886 - 20996967               + |    LRG_989t1e20       LRG_989t1       LRG_989t1     LZTR1         LRG_989        20\n",
      "      LRG_989t1    chr22 20997232 - 20999033               + |    LRG_989t1e21       LRG_989t1       LRG_989t1     LZTR1         LRG_989        21\n",
      "------\n",
      "seqinfo(1 sequences): chr22\n"
     ]
    }
   ],
   "source": [
    "# Combine all exons into a single GenomicRanges object\n",
    "all_exons = by_tx.as_granges()\n",
    "\n",
    "print(\"All exons:\")\n",
    "print(all_exons)"
   ]
  },
  {
   "cell_type": "markdown",
   "metadata": {},
   "source": [
    "We can then find peaks that overlap with any of these regions:"
   ]
  },
  {
   "cell_type": "code",
   "execution_count": 14,
   "metadata": {},
   "outputs": [
    {
     "name": "stdout",
     "output_type": "stream",
     "text": [
      "Peaks overlapping with exons:\n",
      "GenomicRanges with 279 ranges and 0 metadata columns\n",
      "      seqnames              ranges          strand\n",
      "         <str>           <IRanges> <ndarray[int8]>\n",
      "  [0]    chr22 19766788 - 19767078               *\n",
      "  [1]    chr22 17369888 - 17370178               *\n",
      "  [2]    chr22 19756445 - 19756735               *\n",
      "           ...                 ...             ...\n",
      "[276]    chr22 29307104 - 29307394               *\n",
      "[277]    chr22 35552420 - 35552710               *\n",
      "[278]    chr22 37931897 - 37932187               *\n",
      "------\n",
      "seqinfo(46 sequences): chr1 chr10 chr11 ... chrUn_KI270750v1 chrUn_KI270752v1 chrX\n",
      "Percentage of peaks overlapping with exons: 19.36%\n"
     ]
    }
   ],
   "source": [
    "# Find peaks overlapping with any exon\n",
    "peaks_by_exons = peaks_chr22.subset_by_overlaps(all_exons)\n",
    "\n",
    "print(\"Peaks overlapping with exons:\")\n",
    "print(peaks_by_exons)\n",
    "\n",
    "# Calculate the percentage of peaks that overlap with exons\n",
    "percent_overlapping = (len(peaks_by_exons) / len(peaks_chr22)) * 100\n",
    "\n",
    "print(f\"Percentage of peaks overlapping with exons: {percent_overlapping:.2f}%\")"
   ]
  },
  {
   "cell_type": "markdown",
   "metadata": {},
   "source": [
    "## 5. Advanced Operations\n",
    "\n",
    "Let's explore some more complex operations that are often used in genomic analyses.\n",
    "\n",
    "### 5.1 Compare exonic vs. intronic binding\n",
    "\n",
    "Let's first identify intron regions. There are two ways to find introns\n",
    "\n",
    "1. **Find introns for each gene**, regions within each gene body that do not overlap to that gene's exons (using `psetdiff` in R/Bioconductor).\n",
    "2. **Find introns globally**, regions that don't overlap with any exon (using `subtract`). To find these positions, we also ignore strand information.\n",
    "\n",
    "We will find introns globally (2) for our tutorial today. If you are wondering why, we currently don't have `psetdiff` implemented in BiocPy/GenomicRanges. If you are interested in contributing, check out [this issue](https://github.com/BiocPy/GenomicRanges/issues/115).\n",
    "\n",
    "Let's first get all transcript ranges, following the steps in [Section 3.1](#find-transcription-start-sites-tss):"
   ]
  },
  {
   "cell_type": "code",
   "execution_count": 15,
   "metadata": {},
   "outputs": [],
   "source": [
    "# Get the full extent of each gene\n",
    "tx_ranges = by_tx.range().as_genomic_ranges()"
   ]
  },
  {
   "cell_type": "markdown",
   "metadata": {},
   "source": [
    "We now subtract any exons that overlaps within each transcript by ignoring the strand. The result is a `GenomicRangesList` containing intron regions for each transcript. We simplify this by coercing this into a `GenomicRanges` object."
   ]
  },
  {
   "cell_type": "code",
   "execution_count": 16,
   "metadata": {},
   "outputs": [
    {
     "name": "stdout",
     "output_type": "stream",
     "text": [
      "Intron regions:\n",
      "GenomicRanges with 5403 ranges and 0 metadata columns\n",
      "                seqnames              ranges          strand\n",
      "                   <str>           <IRanges> <ndarray[int8]>\n",
      "ENST00000006251    chr22 44677057 - 44737681               +\n",
      "ENST00000008876    chr22 50603133 - 50613982               +\n",
      "ENST00000043402    chr22 20241415 - 20268319               -\n",
      "                     ...                 ...             ...\n",
      "      LRG_856t2    chr22 33272509 - 33920477               -\n",
      "       LRG_97t1    chr22 37225270 - 37244266               -\n",
      "      LRG_989t1    chr22 20982297 - 20999033               +\n",
      "------\n",
      "seqinfo(1 sequences): chr22\n"
     ]
    }
   ],
   "source": [
    "introns = tx_ranges.subtract(all_exons, ignore_strand=True).as_granges()\n",
    "\n",
    "print(\"Intron regions:\")\n",
    "print(introns)"
   ]
  },
  {
   "cell_type": "markdown",
   "metadata": {},
   "source": [
    "We can compare the proportion of peaks overlapping with exons to those overlapping with introns:"
   ]
  },
  {
   "cell_type": "code",
   "execution_count": 17,
   "metadata": {},
   "outputs": [
    {
     "name": "stdout",
     "output_type": "stream",
     "text": [
      "Peaks overlapping with introns:\n",
      "GenomicRanges with 1000 ranges and 0 metadata columns\n",
      "      seqnames              ranges          strand\n",
      "         <str>           <IRanges> <ndarray[int8]>\n",
      "  [0]    chr22 19766788 - 19767078               *\n",
      "  [1]    chr22 17369888 - 17370178               *\n",
      "  [2]    chr22 19756445 - 19756735               *\n",
      "           ...                 ...             ...\n",
      "[997]    chr22 36626768 - 36627058               *\n",
      "[998]    chr22 48833277 - 48833567               *\n",
      "[999]    chr22 49663362 - 49663652               *\n",
      "------\n",
      "seqinfo(46 sequences): chr1 chr10 chr11 ... chrUn_KI270750v1 chrUn_KI270752v1 chrX\n",
      "Percentage of peaks overlapping with exons: 19.36%\n",
      "Percentage of peaks overlapping with introns: 69.40%\n"
     ]
    }
   ],
   "source": [
    "# Find peaks overlapping with introns\n",
    "peaks_by_introns = peaks_chr22.subset_by_overlaps(introns)\n",
    "\n",
    "print(\"Peaks overlapping with introns:\")\n",
    "print(peaks_by_introns)\n",
    "\n",
    "# Calculate percentages\n",
    "percent_exonic = (len(peaks_by_exons) / len(peaks_chr22)) * 100\n",
    "percent_intronic = (len(peaks_by_introns) / len(peaks_chr22)) * 100\n",
    "\n",
    "print(f\"Percentage of peaks overlapping with exons: {percent_exonic:.2f}%\")\n",
    "print(f\"Percentage of peaks overlapping with introns: {percent_intronic:.2f}%\")"
   ]
  },
  {
   "cell_type": "markdown",
   "metadata": {},
   "source": [
    "```{note}\n",
    "These percentages may or may not add up to 100%. Some peaks may overlap both introns and exons depending on how wide they are. In our case its because of ignoring strands and finding global intronic regions. Ideally, you may want to filter the peaks based on preference as you annotate them with TSS, promoters, etc.\n",
    "```\n",
    "\n",
    "This comparison can help determine if the protein of interest shows a preference for binding in exonic or intronic regions, which could suggest different functional roles (e.g., splicing regulation for exonic binding vs. potential enhancer activity for intronic binding).\n",
    "\n",
    "### 5.2 Find overlaps with the first exon\n",
    "\n",
    "```{note}\n",
    "The rationale for this analysis may vary, but we are mostly showcasing complex genomic operations that can be performed.\n",
    "```\n",
    "\n",
    "Let's first put together a `GenomicRanges` object containing the first exon for each transcript."
   ]
  },
  {
   "cell_type": "code",
   "execution_count": 18,
   "metadata": {},
   "outputs": [],
   "source": [
    "all_first = []\n",
    "for txid, grl in by_tx:\n",
    "    strand = grl.get_strand(as_type = \"list\")[0]\n",
    "    if strand == \"-\":\n",
    "        all_first.append(grl.sort()[-1])\n",
    "    else:\n",
    "        all_first.append(grl.sort()[0])"
   ]
  },
  {
   "cell_type": "markdown",
   "metadata": {},
   "source": [
    "Then we combine all the individual genomic elements. The [biocutils](https://github.com/BiocPy/BiocUtils) package provides utilities for convenient aspects of R that aren't provided by base Python and generics. One of these generics is the `combine_sequences` operation that merges or concatenates 1-dimensional Bioconductor classes."
   ]
  },
  {
   "cell_type": "code",
   "execution_count": 19,
   "metadata": {},
   "outputs": [],
   "source": [
    "from biocutils import combine_sequences\n",
    "first_exons = combine_sequences(*all_first)"
   ]
  },
  {
   "cell_type": "markdown",
   "metadata": {},
   "source": [
    "We can now subset peaks that overlap with the first exon:"
   ]
  },
  {
   "cell_type": "code",
   "execution_count": 20,
   "metadata": {},
   "outputs": [
    {
     "name": "stdout",
     "output_type": "stream",
     "text": [
      "GenomicRanges with 153 ranges and 0 metadata columns\n",
      "      seqnames              ranges          strand\n",
      "         <str>           <IRanges> <ndarray[int8]>\n",
      "  [0]    chr22 17369888 - 17370178               *\n",
      "  [1]    chr22 19756445 - 19756735               *\n",
      "  [2]    chr22 45975507 - 45975797               *\n",
      "           ...                 ...             ...\n",
      "[150]    chr22 49500975 - 49501265               *\n",
      "[151]    chr22 19131257 - 19131547               *\n",
      "[152]    chr22 29307104 - 29307394               *\n",
      "------\n",
      "seqinfo(46 sequences): chr1 chr10 chr11 ... chrUn_KI270750v1 chrUn_KI270752v1 chrX\n"
     ]
    }
   ],
   "source": [
    "peaks_with_first_exons = peaks_chr22.subset_by_overlaps(first_exons)\n",
    "print(peaks_with_first_exons)"
   ]
  },
  {
   "cell_type": "markdown",
   "metadata": {},
   "source": [
    "### 4.3 Resizing and Shifting Peaks\n",
    "\n",
    "Resizing and shifting genomic ranges can be useful in various contexts. For example:\n",
    "\n",
    "- Narrowing peaks might help focus on the center of ChIP-seq binding sites.\n",
    "- Shifting ranges can be used to look at regions adjacent to your features of interest. e.g., defining the predicted CRISPR cleavage site based on the position of the CRISPR gRNA sequence."
   ]
  },
  {
   "cell_type": "code",
   "execution_count": 21,
   "metadata": {},
   "outputs": [
    {
     "name": "stdout",
     "output_type": "stream",
     "text": [
      "Narrowed and Shifted Peaks:\n",
      "GenomicRanges with 1441 ranges and 0 metadata columns\n",
      "       seqnames              ranges          strand\n",
      "          <str>           <IRanges> <ndarray[int8]>\n",
      "   [0]    chr22 19766807 - 19766907               *\n",
      "   [1]    chr22 17369907 - 17370007               *\n",
      "   [2]    chr22 19756464 - 19756564               *\n",
      "            ...                 ...             ...\n",
      "[1438]    chr22 27212077 - 27212177               *\n",
      "[1439]    chr22 49201378 - 49201478               *\n",
      "[1440]    chr22 49663381 - 49663481               *\n",
      "------\n",
      "seqinfo(46 sequences): chr1 chr10 chr11 ... chrUn_KI270750v1 chrUn_KI270752v1 chrX\n"
     ]
    }
   ],
   "source": [
    "narrow_peaks = peaks_chr22.narrow(start=10, width=100)\n",
    "shifted_peaks = narrow_peaks.shift(10)\n",
    "\n",
    "print(\"Narrowed and Shifted Peaks:\")\n",
    "print(shifted_peaks)"
   ]
  },
  {
   "cell_type": "markdown",
   "metadata": {},
   "source": [
    "These operations demonstrate the flexibility of genomic range manipulations, which can be useful for fine-tuning analyses or testing hypotheses about the spatial relationships between genomic features.\n",
    "\n",
    "## 6. Exercises\n",
    "\n",
    "1. Split the input genome reference by `gene_name`, e.g. a field that contains gene symbols.\n",
    "2. Calculate the average width of the ChIP-seq peaks on chromosome 22.\n",
    "4. Compute the percentage of promoter regions that have at least one overlapping ChIP-seq peak.\n",
    "\n",
    "## Conclusion\n",
    "\n",
    "In this tutorial, we've explored how to use BiocPy's genomic ranges functionality to perform various genomic analyses. These tools and techniques provide a powerful way to work with genomic interval data in Python, mirroring the capabilities from Bioconductor. They form the foundation for many more complex genomic analyses and can be applied to a wide range of biological questions.\n",
    "\n",
    "Refer to the [BiocPy documentation](https://biocpy.github.io/) for more detailed information on these packages and their functionalities.\n"
   ]
  }
 ],
 "metadata": {
  "kernelspec": {
   "display_name": "Python 3 (ipykernel)",
   "language": "python",
   "name": "python3"
  },
  "language_info": {
   "codemirror_mode": {
    "name": "ipython",
    "version": 3
   },
   "file_extension": ".py",
   "mimetype": "text/x-python",
   "name": "python",
   "nbconvert_exporter": "python",
   "pygments_lexer": "ipython3",
   "version": "3.10.14"
  }
 },
 "nbformat": 4,
 "nbformat_minor": 4
}
